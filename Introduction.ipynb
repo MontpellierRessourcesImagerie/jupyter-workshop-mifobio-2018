{
 "cells": [
  {
   "cell_type": "markdown",
   "metadata": {
    "slideshow": {
     "slide_type": "slide"
    }
   },
   "source": [
    "# Introduction\n",
    "\n",
    "In this workshop you will learn to use jupyter notebook<cite data-cite=\"5920019/QXB8RD3Y\"></cite> to analyze bio-images that are stored in a central OMERO<cite data-cite=\"5920019/TFBN4RBU\"></cite> database. \n",
    "\n",
    "Jupyter notebook allows to write online documents that contain text, equations, graphics, images and executable code in different programming languages including python and R. They provide therefore a good medium for exploring and teaching image and data analysis. Beyond teaching and exploration they could be used to make the image and data analysis parts of scientific publications reproducible. In this context the images can be stored in an OMERO database and accessed from the jupyter notebook -- independent from where it runs, locally on your machine, on a server at your institution or in a hosted environment. \n"
   ]
  },
  {
   "cell_type": "markdown",
   "metadata": {},
   "source": [
    "## Text cells\n",
    "\n",
    "This is a text cell. In text cells you can use markdown to format your text, latex to write equations and you can display images via an url or from a local folder on the server."
   ]
  },
  {
   "cell_type": "markdown",
   "metadata": {},
   "source": [
    "***************************\n",
    "### Markdown\n",
    "\n",
    "Here are some examples of what you can do with markdown.\n",
    "\n",
    "Headings:\n",
    "\n",
    "You can create a heading of level n by using n-times the \\#-character, for example \n",
    "\n",
    "\\#\\#\\#\\# Heading Level 4\n",
    "\n",
    "#### Heading Level 4 \n",
    "\n",
    "##### Heading Level 5\n",
    "\n",
    "###### Heading Level 6\n",
    "\n",
    "\n",
    "Lists:\n",
    "\n",
    "unordered:\n",
    "\n",
    "* an item\n",
    "* another item\n",
    "\n",
    "\n",
    "ordered:\n",
    "\n",
    "1. the first item\n",
    "1. the second item\n",
    "\n",
    "\n",
    "emphasis: **bold**, _italic_\n",
    "\n",
    "\n",
    "code (not executable): `print('Hello World!')`\n",
    "\n",
    "\n",
    "Links: See [Daring Fireball](https://daringfireball.net/projects/markdown/) for more details about markdown.\n",
    "\n",
    "\n",
    "If you need more than markdown provides, you can directly use htlm.\n",
    "\n",
    "\n",
    " <table border = \"1\">\n",
    "         <tr>\n",
    "            <td>Row 1, Column 1</td>\n",
    "            <td>Row 1, Column 2</td>\n",
    "         </tr>\n",
    "         \n",
    "         <tr>\n",
    "            <td>Row 2, Column 1</td>\n",
    "            <td>Row 2, Column 2</td>\n",
    "         </tr>\n",
    " </table>\n",
    "  \n",
    " ******************************\n",
    " "
   ]
  },
  {
   "cell_type": "markdown",
   "metadata": {},
   "source": [
    "### Pictures\n",
    "\n",
    "![Logo MRI](pictures/logo.png) \n",
    "![mifobio](http://argolight.com/wp-content/uploads/2016/09/MiFoBio16.jpg)<div class=\"cite2c-biblio\"></div>"
   ]
  },
  {
   "cell_type": "markdown",
   "metadata": {},
   "source": [
    "### Equations\n",
    "\n",
    "Equations can be used inline, so you can have short equations like $E = mc^2$ within the text. Longer equations should be separated from the text:\n",
    "\n",
    "$$f\\left( x \\right) = \\sum\\limits_{n = 0}^\\infty  {{A_n}\\cos \\left( {\\frac{{n\\,\\pi x}}{L}} \\right)}  + \\sum\\limits_{n = 1}^\\infty  {{B_n}\\sin \\left( {\\frac{{n\\,\\pi x}}{L}} \\right)}$$"
   ]
  },
  {
   "cell_type": "markdown",
   "metadata": {},
   "source": [
    "## Exercise 1 - Hello World!\n",
    "\n",
    "To get started with python programming in jupyter notebook, write the famous hello world! program in the cell below and run it. It should output the text \"Hello World!\". The python command needed for this is `print`."
   ]
  },
  {
   "cell_type": "code",
   "execution_count": null,
   "metadata": {},
   "outputs": [],
   "source": [
    "# Enter your code below !\n"
   ]
  },
  {
   "cell_type": "markdown",
   "metadata": {},
   "source": [
    "## Exercise 2 - 99 bottles\n",
    "\n",
    "Complete the program in the cell below. The program will output the lyrics of the son \"99 Bottles of Beer\". \n"
   ]
  },
  {
   "cell_type": "code",
   "execution_count": null,
   "metadata": {},
   "outputs": [],
   "source": [
    "# Replace the occurences of .. in the code below to write a program that outputs the lyrics of the \n",
    "# song 99 bottles of beer.\n",
    "\n",
    "for i in range(..,..):\n",
    "    print (str(..) + \" bottles of beer on the wall, \" + str(..) +\" bottles of beer\")\n",
    "    print (\"Take one down and pass it around, \" + str(..) +\" bottles of beer on the wall\")"
   ]
  },
  {
   "cell_type": "markdown",
   "metadata": {},
   "source": [
    "<div class=\"cite2c-biblio\"></div>"
   ]
  }
 ],
 "metadata": {
  "celltoolbar": "Edit Metadata",
  "cite2c": {
   "citations": {
    "5920019/QXB8RD3Y": {
     "DOI": "10.3233/978-1-61499-649-1-87",
     "URL": "http://www.medra.org/servlet/aliasResolver?alias=iospressISBN&isbn=978-1-61499-648-4&spage=87&doi=10.3233/978-1-61499-649-1-87",
     "abstract": "It is increasingly necessary for researchers in all fields to write computer code, and in order to reproduce research results, it is important that this code is published. We present Jupyter notebooks, a document format for publishing code, results and explanations in a form that is both readable and executable. We discuss various tools and use cases for notebook documents.",
     "accessed": {
      "day": 6,
      "month": 7,
      "year": 2018
     },
     "author": [
      {
       "family": "Thomas",
       "given": "Kluyver"
      },
      {
       "family": "Benjamin",
       "given": "Ragan-Kelley"
      },
      {
       "family": "Fernando",
       "given": "P&eacute;rez"
      },
      {
       "family": "Brian",
       "given": "Granger"
      },
      {
       "family": "Matthias",
       "given": "Bussonnier"
      },
      {
       "family": "Jonathan",
       "given": "Frederic"
      },
      {
       "family": "Kyle",
       "given": "Kelley"
      },
      {
       "family": "Jessica",
       "given": "Hamrick"
      },
      {
       "family": "Jason",
       "given": "Grout"
      },
      {
       "family": "Sylvain",
       "given": "Corlay"
      },
      {
       "family": "Paul",
       "given": "Ivanov"
      },
      {
       "family": "Dami&aacute;n",
       "given": "Avila"
      },
      {
       "family": "Safia",
       "given": "Abdalla"
      },
      {
       "family": "Carol",
       "given": "Willing"
      },
      {
       "family": "Team",
       "given": "Jupyter Development"
      }
     ],
     "container-title": "Stand Alone",
     "id": "5920019/QXB8RD3Y",
     "issued": {
      "year": 2016
     },
     "page": "87–90",
     "page-first": "87",
     "title": "Jupyter Notebooks &ndash; a publishing format for reproducible computational workflows",
     "type": "article-journal"
    },
    "5920019/TFBN4RBU": {
     "DOI": "10.1007/s00335-015-9587-6",
     "URL": "http://link.springer.com/10.1007/s00335-015-9587-6",
     "accessed": {
      "day": 8,
      "month": 7,
      "year": 2018
     },
     "author": [
      {
       "family": "Burel",
       "given": "Jean-Marie"
      },
      {
       "family": "Besson",
       "given": "Sébastien"
      },
      {
       "family": "Blackburn",
       "given": "Colin"
      },
      {
       "family": "Carroll",
       "given": "Mark"
      },
      {
       "family": "Ferguson",
       "given": "Richard K."
      },
      {
       "family": "Flynn",
       "given": "Helen"
      },
      {
       "family": "Gillen",
       "given": "Kenneth"
      },
      {
       "family": "Leigh",
       "given": "Roger"
      },
      {
       "family": "Li",
       "given": "Simon"
      },
      {
       "family": "Lindner",
       "given": "Dominik"
      },
      {
       "family": "Linkert",
       "given": "Melissa"
      },
      {
       "family": "Moore",
       "given": "William J."
      },
      {
       "family": "Ramalingam",
       "given": "Balaji"
      },
      {
       "family": "Rozbicki",
       "given": "Emil"
      },
      {
       "family": "Tarkowska",
       "given": "Aleksandra"
      },
      {
       "family": "Walczysko",
       "given": "Petr"
      },
      {
       "family": "Allan",
       "given": "Chris"
      },
      {
       "family": "Moore",
       "given": "Josh"
      },
      {
       "family": "Swedlow",
       "given": "Jason R."
      }
     ],
     "container-title": "Mammalian Genome",
     "id": "5920019/TFBN4RBU",
     "issue": "9-10",
     "issued": {
      "year": 2015
     },
     "language": "en",
     "page": "441-447",
     "page-first": "441",
     "title": "Publishing and sharing multi-dimensional image data with OMERO",
     "type": "article-journal",
     "volume": "26"
    }
   }
  },
  "kernelspec": {
   "display_name": "Python 3",
   "language": "python",
   "name": "python3"
  },
  "language_info": {
   "codemirror_mode": {
    "name": "ipython",
    "version": 3
   },
   "file_extension": ".py",
   "mimetype": "text/x-python",
   "name": "python",
   "nbconvert_exporter": "python",
   "pygments_lexer": "ipython3",
   "version": "3.6.4"
  }
 },
 "nbformat": 4,
 "nbformat_minor": 2
}
