{
 "cells": [
  {
   "cell_type": "markdown",
   "metadata": {},
   "source": [
    "# Introduction to OMERO"
   ]
  },
  {
   "cell_type": "markdown",
   "metadata": {},
   "source": [
    "The idea of the pipeline here is to become familiar with the omero web interface. Then, after a quick tour of the interface, the goal is to learn about the Omero API via python calls.   \n",
    "For more details, visit <https://docs.openmicroscopy.org/omero/5.4.8/developers/Python.html>"
   ]
  },
  {
   "cell_type": "markdown",
   "metadata": {},
   "source": [
    "## Exercises 1 - Explore omero.web"
   ]
  },
  {
   "cell_type": "markdown",
   "metadata": {},
   "source": [
    "* Login to omero-web (login: user01, password: mifobio2018)\n",
    "\n",
    "* Familiarize yourself with the tree browser, thumbnails and metadata of various projects, datasets and images. Click on the group mifobio and select 'all members' to see the images\n",
    "\n",
    "* Note the ids of projects, datasets and images"
   ]
  },
  {
   "cell_type": "markdown",
   "metadata": {},
   "source": [
    "## Exercises 2 - Connect to the omero server"
   ]
  },
  {
   "cell_type": "code",
   "execution_count": null,
   "metadata": {},
   "outputs": [],
   "source": [
    "# The 2 lines below are there to set the path to the OMERO python client. \n",
    "import sys\n",
    "sys.path.append('../../OMERO.server/lib/python')\n",
    "\n",
    "# Import the BlitzGateway from omero.gateway to access the omero-server\n",
    "\n",
    "# The getpass() function prints a prompt and reads input from the user.\n",
    "# The input is passed back as a string to the caller. Import getpass from getpass.\n",
    "\n",
    "# Assign the hostname (ip-address) and the port-number (it is displayed on the login page of omero-web) to variables.\n",
    "# Warning: The hostname must be a string and the port number an integer.\n",
    "\n",
    "# Use the raw_input function to print a prompt for the username (user1). \n",
    "\n",
    "# Use the getpass function to ask the user for the password (mifobio2018) and asign it to a variable (=)\n",
    "\n",
    "# Create a new BlitzGateway by calling the function BlitzGateway(...,...,host=...,port=...) with the parameters \n",
    "# username, password, host and port. Use a new variable named conn to assign the output of this function.\n",
    "\n",
    "# Use the connect function of the BlitzGateway (using the variable conn) to connect to the omero server.\n"
   ]
  },
  {
   "cell_type": "markdown",
   "metadata": {},
   "source": [
    "## Exercises 3 - Get user information"
   ]
  },
  {
   "cell_type": "code",
   "execution_count": null,
   "metadata": {},
   "outputs": [],
   "source": [
    "# The getUser() function return the credentials of the current user.\n",
    "# Assign the output of this function to a variable.\n",
    "\n",
    "\n",
    "# Get the name and fullname, search the functions needed, by pressing tab after having typed 'conn.'. \n",
    "# Print the outputs.\n",
    "\n",
    "\n",
    "# Get your group using the getGroupsMemberOf function and your current group using getGroupFromContext().\n",
    "# Print the results.\n",
    "# If you are member of several groups, you should use a for clause to loop over groups \n"
   ]
  },
  {
   "cell_type": "markdown",
   "metadata": {},
   "source": [
    "## Exercises 4 - Get Projects and Datasets information"
   ]
  },
  {
   "cell_type": "code",
   "execution_count": null,
   "metadata": {},
   "outputs": [],
   "source": [
    "# Count the datasets in each project.\n",
    "# Use the getObjects function to retrieve a Project or dataset\n",
    "# Use the listChildren function to get a list of a project's children.\n",
    "# Note: use two loops - the first to iterate over projects and the second to iterate over datasets.\n",
    "# See the code below to get you started.\n",
    "\n",
    "sum = 0\n",
    "for project in conn.getObjects('Project'):\n",
    "    sum += 1\n",
    "print \"Number of projects: \",sum"
   ]
  }
 ],
 "metadata": {
  "kernelspec": {
   "display_name": "Python [conda env:py27]",
   "language": "python",
   "name": "conda-env-py27-py"
  },
  "language_info": {
   "codemirror_mode": {
    "name": "ipython",
    "version": 2
   },
   "file_extension": ".py",
   "mimetype": "text/x-python",
   "name": "python",
   "nbconvert_exporter": "python",
   "pygments_lexer": "ipython2",
   "version": "2.7.15"
  }
 },
 "nbformat": 4,
 "nbformat_minor": 2
}
