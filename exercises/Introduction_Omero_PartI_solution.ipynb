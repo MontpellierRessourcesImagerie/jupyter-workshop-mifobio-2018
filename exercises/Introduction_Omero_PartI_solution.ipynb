{
 "cells": [
  {
   "cell_type": "markdown",
   "metadata": {},
   "source": [
    "# Introduction to OMERO (part I)"
   ]
  },
  {
   "cell_type": "markdown",
   "metadata": {},
   "source": [
    "The idea of the pipeline here is to become familiar with the omero web interface. Then, after a quick tour of the interface, the goal is to learn about the Omero API via python calls.   \n",
    "For more details, visit <https://docs.openmicroscopy.org/omero/5.4.8/developers/Python.html>"
   ]
  },
  {
   "cell_type": "markdown",
   "metadata": {},
   "source": [
    "## Exercises 1 - Connect to the omero.web"
   ]
  },
  {
   "cell_type": "code",
   "execution_count": 1,
   "metadata": {},
   "outputs": [],
   "source": [
    "# Fill your login and password (login as user_{int} password as mifobio2018)\n",
    "\n",
    "\n",
    "# Familiarize yourself with the tree browser, thumbnails and metadata of various projects, datasets and images\n",
    "\n",
    "\n",
    "# Give the name and the numbers of groups\n",
    "\n",
    "\n",
    "# Give the number of projects / datasets\n",
    "\n",
    "\n",
    "# Give for each projects and datasets, the number of images\n",
    "\n"
   ]
  },
  {
   "cell_type": "markdown",
   "metadata": {},
   "source": [
    "## Exercises 2 - Connect to the omero server"
   ]
  },
  {
   "cell_type": "code",
   "execution_count": 4,
   "metadata": {},
   "outputs": [
    {
     "name": "stdout",
     "output_type": "stream",
     "text": [
      "Username: cedrichk\n",
      "OMERO Password: ········\n",
      "Host: omero.mri.cnrs.fr\n",
      "Port: 4064\n"
     ]
    },
    {
     "data": {
      "text/plain": [
       "True"
      ]
     },
     "execution_count": 4,
     "metadata": {},
     "output_type": "execute_result"
    }
   ],
   "source": [
    "# Import BlitzGateway from omero.gateway to access API\n",
    "from omero.gateway import BlitzGateway\n",
    "\n",
    "# The getpass() function prints a prompt then reads input from the user until they press return.\n",
    "# The input is passed back as a string to the caller. For that import getpass from getpass.\n",
    "from getpass import getpass\n",
    "\n",
    "# Use raw_input function to print a prompt for username, host and port.\n",
    "# Warning: For port parameter cast the string to integer.\n",
    "\n",
    "# Fill the parameters of BlitzGateway function: Username, Password, Host and Port\n",
    "# create a variable to assign the output of this function \n",
    "# Use connect function to connect you to the omero server.\n",
    "conn = BlitzGateway(\n",
    "    raw_input(\"Username: \"), getpass(\"OMERO Password: \"),\n",
    "    host=raw_input(\"Host: \"), port=int(raw_input(\"Port: \")))\n",
    "conn.connect()"
   ]
  },
  {
   "cell_type": "markdown",
   "metadata": {},
   "source": [
    "## Exercises 3 - Get user information"
   ]
  },
  {
   "cell_type": "code",
   "execution_count": 1,
   "metadata": {},
   "outputs": [
    {
     "ename": "NameError",
     "evalue": "name 'conn' is not defined",
     "output_type": "error",
     "traceback": [
      "\u001b[0;31m---------------------------------------------------------------------------\u001b[0m",
      "\u001b[0;31mNameError\u001b[0m                                 Traceback (most recent call last)",
      "\u001b[0;32m<ipython-input-1-a6ee3191129c>\u001b[0m in \u001b[0;36m<module>\u001b[0;34m()\u001b[0m\n\u001b[1;32m      1\u001b[0m \u001b[0;31m# getUser function return the credentials of the current user.\u001b[0m\u001b[0;34m\u001b[0m\u001b[0;34m\u001b[0m\u001b[0m\n\u001b[1;32m      2\u001b[0m \u001b[0;31m# create a variable to assign the output of this function\u001b[0m\u001b[0;34m\u001b[0m\u001b[0;34m\u001b[0m\u001b[0m\n\u001b[0;32m----> 3\u001b[0;31m \u001b[0muser\u001b[0m \u001b[0;34m=\u001b[0m \u001b[0mconn\u001b[0m\u001b[0;34m.\u001b[0m\u001b[0mgetUser\u001b[0m\u001b[0;34m(\u001b[0m\u001b[0;34m)\u001b[0m\u001b[0;34m\u001b[0m\u001b[0m\n\u001b[0m\u001b[1;32m      4\u001b[0m \u001b[0;34m\u001b[0m\u001b[0m\n\u001b[1;32m      5\u001b[0m \u001b[0;31m# Get your name and fullname, search the good functions by pressing tab and print the outputs\u001b[0m\u001b[0;34m\u001b[0m\u001b[0;34m\u001b[0m\u001b[0m\n",
      "\u001b[0;31mNameError\u001b[0m: name 'conn' is not defined"
     ]
    }
   ],
   "source": [
    "# getUser function return the credentials of the current user.\n",
    "# create a variable to assign the output of this function\n",
    "user = conn.getUser()\n",
    "\n",
    "# Get your name and fullname from the newly created variable\n",
    "print \"Fullname is: \",user.getName()\n",
    "print \"Name is: \",user.getFullName()\n",
    "\n",
    "# Get your group using the getGroupsMemberOf function and your current group using getGroupFromContext().\n",
    "# Print also the outputs.\n",
    "# If you are member of several groups, you should use for clause to loop over groups \n",
    "print \"Member of:\"\n",
    "for g in conn.getGroupsMemberOf():\n",
    "    print \"ID: \",g.getName(), \"Name: \",g.getId()\n",
    "print \"Current group:\"\n",
    "group = conn.getGroupFromContext()\n",
    "print group.getName()"
   ]
  },
  {
   "cell_type": "markdown",
   "metadata": {},
   "source": [
    "## Exercises 4 - Get Projects and Datasets information"
   ]
  },
  {
   "cell_type": "code",
   "execution_count": 68,
   "metadata": {
    "scrolled": true
   },
   "outputs": [
    {
     "name": "stdout",
     "output_type": "stream",
     "text": [
      "Number of projects:  4\n",
      "Project Name:  cellprofiler\n",
      "Number of datasets:  1\n",
      "Project Name:  PK-10B\n",
      "Project Name:  PK-10B\n",
      "Project Name:  PK-10B\n",
      "Project Name:  PK-10B\n",
      "Project Name:  PK-10B\n",
      "Project Name:  PK-10B\n",
      "Number of datasets:  6\n",
      "Project Name:  PK-11B\n",
      "Project Name:  PK-11B\n",
      "Project Name:  PK-11B\n",
      "Project Name:  PK-11B\n",
      "Project Name:  PK-11B\n",
      "Project Name:  PK-11B\n",
      "Number of datasets:  6\n",
      "Project Name:  ExampleHuman\n",
      "Number of datasets:  1\n"
     ]
    }
   ],
   "source": [
    "# Get the number of datasets for each project\n",
    "# Use getObjects function to retrieve Project or dataset\n",
    "# Use listChildren function to get a list of project's children\n",
    "# Note: use two loops - first to iterate over project and second to iterate over dataset\n",
    "# For you help you can take example of the code below\n",
    "\n",
    "sum = 0\n",
    "for project in conn.getObjects('Project'):\n",
    "    sum += 1\n",
    "print \"Number of projects: \",sum\n",
    "\n",
    "\n",
    "for project in conn.getObjects('Project'):\n",
    "    sum = 0\n",
    "    for dataset in project.listChildren():\n",
    "        print \"Project Name: \",project.getName()\n",
    "        sum +=1\n",
    "    print \"Number of datasets: \",sum"
   ]
  },
  {
   "cell_type": "code",
   "execution_count": null,
   "metadata": {},
   "outputs": [],
   "source": []
  }
 ],
 "metadata": {
  "kernelspec": {
   "display_name": "Python 2",
   "language": "python",
   "name": "python2"
  },
  "language_info": {
   "codemirror_mode": {
    "name": "ipython",
    "version": 2
   },
   "file_extension": ".py",
   "mimetype": "text/x-python",
   "name": "python",
   "nbconvert_exporter": "python",
   "pygments_lexer": "ipython2",
   "version": "2.7.15"
  }
 },
 "nbformat": 4,
 "nbformat_minor": 2
}
