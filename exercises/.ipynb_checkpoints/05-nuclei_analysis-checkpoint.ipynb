{
 "cells": [
  {
   "cell_type": "markdown",
   "metadata": {},
   "source": [
    "# Applying a filter to the nuclei image"
   ]
  },
  {
   "cell_type": "code",
   "execution_count": null,
   "metadata": {},
   "outputs": [],
   "source": [
    "from __future__ import division"
   ]
  },
  {
   "cell_type": "markdown",
   "metadata": {},
   "source": [
    "The goal of the image pre-processing is often to optimize the image with respect to the segmentation. Possible operationsare.\n",
    "  \n",
    "  + smoothing (enhance S/N)\n",
    "  + noise reduction\n",
    "  + contrast sharpening \n",
    "  + edge detection   \n",
    "\n",
    "The specific preprocessing steps used in a pipeline depend on the type of image, the microscopy technique used, the image quality, and the desired downstream analysis.\n",
    "In this pipeline we will be using a **median filter**.\n",
    "\n",
    "Median filtering is useful as a **smoothing technique** to reduce noice. The median filter considers each pixel in the image in turn and looks at its nearby neighbors to decide whether or not it is representative of its surroundings. Instead of simply replacing the pixel value with the mean of neighboring pixel values, it replaces it with the median of those values. The median is calculated by sorting all the pixel values from the **surrounding neighborhood** into numerical order and returning the pixel value in the middle."
   ]
  },
  {
   "cell_type": "markdown",
   "metadata": {},
   "source": [
    "## Exercises  1 -  Connect  to the omero server"
   ]
  },
  {
   "cell_type": "code",
   "execution_count": 1,
   "metadata": {},
   "outputs": [
    {
     "name": "stdout",
     "output_type": "stream",
     "text": [
      "Passwd: ········\n"
     ]
    },
    {
     "data": {
      "text/plain": [
       "True"
      ]
     },
     "execution_count": 1,
     "metadata": {},
     "output_type": "execute_result"
    }
   ],
   "source": [
    "# The 2 lines below are there to set the path to the OMERO python client. \n",
    "import sys\n",
    "sys.path.append('../../OMERO.server/lib/python')\n",
    "from omero.gateway import BlitzGateway\n",
    "from getpass import getpass\n",
    "\n",
    "host = \"localhost\"\n",
    "port = 4064\n",
    "username = 'root'\n",
    "\n",
    "# Use the getpass function to ask the user for the password (omero-root-password) and asign it to a variable (=)\n",
    "passwd = getpass(\"Passwd: \")\n",
    "\n",
    "# Create a new BlitzGateway by calling the BlitzGateway funcion with the parameters: Username, Password, Host and Port\n",
    "conn = BlitzGateway(username, passwd, host=host, port=port)\n",
    "\n",
    "# Use connect function to connect you to the omero server.\n",
    "conn.connect()\n"
   ]
  },
  {
   "cell_type": "markdown",
   "metadata": {},
   "source": [
    "## Exercises  2 -  Getting Images"
   ]
  },
  {
   "cell_type": "code",
   "execution_count": null,
   "metadata": {},
   "outputs": [],
   "source": [
    "# Create a dictionary that contains a key-value pairing for each image.\n",
    "# The keys should be strings describing the name of the image (FITC, Hoechst, Tritc)\n",
    "# and the values should be empty lists. These empty lists will be filled with the image data.\n",
    "\n",
    "img = {..:[],\n",
    "       ..:[],\n",
    "       ..:[]}\n",
    "\n",
    "# Create a function to return images from the project PK-11B and the dataset Well-C003.\n",
    "# Fill in the ..\n",
    "# This function takes two parameters, a dataset_id and the connection variable\n",
    "# To get an image array you can use getPrimaryPixels() to get all pixels from an image.\n",
    "# To add new elements to a list you should use the method append.\n",
    "\n",
    "import matplotlib.pyplot as plt\n",
    "\n",
    "def getImagesFrom(.., ..):\n",
    "    dataset = conn.getObject(\"Dataset\", dataset_id)\n",
    "    print \"\\nImages in Dataset:\", dataset.getName()\n",
    "    for image in dataset.listChildren():\n",
    "        print image.getName(), image.getDescription()\n",
    "        pixels = image.. # get the pixels from the image\n",
    "        image_plane = pixels.getPlane(0, 0, 0)\n",
    "        if image.getName() == \"FITC.jpeg\":\n",
    "            img[\"FITC\"].append(image_plane)\n",
    "        elif image.getName() == \"Hoechst.jpeg\":\n",
    "            img[\"Hoechst\"].append(image_plane)\n",
    "        else:\n",
    "            img[\"Tritc\"].append(image_plane)\n",
    "    return(img)\n",
    "        \n",
    "im = getImagesFrom(.., conn) # Fill in the id of the dataset Well-C003 from the projet PK-11B\n",
    "\n",
    "# print the content of the variable 'im'\n",
    "\n",
    "# Visualize the list of images obtained using plt.imshow then plt.show\n",
    "plt.imshow(im['FITC'][0])\n",
    "plt.show()\n",
    ".. # display the two other images"
   ]
  },
  {
   "cell_type": "markdown",
   "metadata": {},
   "source": [
    "## Exercises 3 - Normalize images"
   ]
  },
  {
   "cell_type": "code",
   "execution_count": null,
   "metadata": {},
   "outputs": [],
   "source": [
    "# Normalize the images\n",
    "# Map the pixel values from the range 0..255 to the interval [0,1] \n",
    "import numpy\n",
    "\n",
    "max1 = numpy.iinfo(im['FITC'][0].dtype).max\n",
    "im['FITC'][0] = ..\n",
    "max2 = numpy.iinfo(im['Hoechst'][0].dtype).max\n",
    "im['Hoechst'][0] = ..\n",
    "max3 = numpy.iinfo(im['Tritc'][0].dtype).max\n",
    "img[\"Tritc\"][0] = ..\n",
    "\n",
    "# Print the first plane of one of the images to check that the values are between 0 and 1.\n",
    "\n",
    "# NOTE that you will get an error if you run the cell multiple times without having run the previous\n",
    "# cell each time before, since the type of the data will change from an int type to a float type that\n",
    "# does not have a maximum value."
   ]
  },
  {
   "cell_type": "markdown",
   "metadata": {},
   "source": [
    "## Exercises 4 - Apply a median filter to the images"
   ]
  },
  {
   "cell_type": "code",
   "execution_count": null,
   "metadata": {},
   "outputs": [],
   "source": [
    "# Create a variable for the size of the smoothing filter and set it to an appropriate value. \n",
    "# Either the sizes of a rectangular kernel or the footprint of the kernel must be provided. \n",
    "# The size parameter, if provided, must be a sequence of sizes or a single number in which case the size of \n",
    "# the filter is assumed to be equal along all axis. \n",
    "# The footprint if provided, must be an array that defines the shape of the kernel by its non-zero elements.\n"
   ]
  },
  {
   "cell_type": "code",
   "execution_count": null,
   "metadata": {},
   "outputs": [],
   "source": [
    "# Perform the smoothing on the image\n",
    "# To do so, use the median filter function 'scipy.ndimage.filters.median_filter' from the \n",
    "# image processing package ndimage. The first parameter is the image and the second the filter-size. \n",
    "# Check the documentation for more options of the filter.\n"
   ]
  },
  {
   "cell_type": "code",
   "execution_count": null,
   "metadata": {},
   "outputs": [],
   "source": [
    "# Visualize the result using plt.imshow and plt.show\n"
   ]
  },
  {
   "cell_type": "markdown",
   "metadata": {},
   "source": [
    "# Global Thresholding"
   ]
  },
  {
   "cell_type": "markdown",
   "metadata": {},
   "source": [
    "Otsu's method is used to perform **clustering based image thresholding**. Assuming a **bi-modal intensity distribution**, pixels are separate into foreground and background. The optimal threshold value to separate the two classes is determined by **minimizing the combined intra-class variance or by maximizing the combined inter-class variance**."
   ]
  },
  {
   "cell_type": "markdown",
   "metadata": {},
   "source": [
    "## Exercises 5 - Otsu's thresholding method"
   ]
  },
  {
   "cell_type": "code",
   "execution_count": null,
   "metadata": {},
   "outputs": [],
   "source": [
    "# Threshold the median-smoothed original image using the otsu method to obtain the nuclei mask. You find \n",
    "# an implementation of the Otsu-threshold in the module skimage.filters under the name threshold_otsu.\n",
    "# In the original image, set pixels with values higher than the threshold to 1 and pixels with values lower or equal to \n",
    "# the threshold to 0. You can use a \"relational operator\" to do this, since numpy arrays will automatically perform \n",
    "# element-wise comparisons when compared to other arrays of the same shape. \n",
    "\n",
    "# First create a an array of the same size as the smoothed image containing zeros everywhere, then use the relational operator to set values above the threshold \n",
    "# to one. For example for two arrays a and b of the same shape, running a[b>8]=1 , will set all values in 'a' to one where\n",
    "# the values in b are bigger then 8.\n",
    "\n",
    "from .. import ..\n",
    "nmask = numpy.zeros(??.shape, dtype = bool)\n",
    "thresholdValue = \n",
    "nmask[..] = ..\n",
    "\n",
    "# Visualize the result using plt.imshow and plt.show\n"
   ]
  },
  {
   "cell_type": "markdown",
   "metadata": {},
   "source": [
    "# Improving Masks with Binary Morphology"
   ]
  },
  {
   "cell_type": "markdown",
   "metadata": {},
   "source": [
    "Morphological operations such as **erosion, dilation, closing and opening** are common tools used (among other things) to improve masks after they are generated by thresholding.\n",
    "They can be used to fill small holes, remove noise, increase or decrease the size of an object, or smoothen mask outlines.\n",
    "Most morphological operations are - once again - simple kernel functions that are applied at each pixel of the image based on their neighborhood as defined by a structuring element (SE). For example, dilation simply assigns to the central pixel the maximum pixel value within the neighborhood; it is a maximum filter. Conversely, erosion is a minimum filter. Additional options emerge from combining the two: morphological closing, for example, is a dilation followed by an erosion. This is used to fill in gaps and holes or smoothing mask outlines without significantly changing the mask's area.\n",
    "Finally, there are also some more complicated morphological operations, such as **hole filling**."
   ]
  },
  {
   "cell_type": "markdown",
   "metadata": {},
   "source": [
    "## Exercises 6 - Morphological operations"
   ]
  },
  {
   "cell_type": "code",
   "execution_count": null,
   "metadata": {},
   "outputs": [],
   "source": [
    "# Create a diamond-shaped structuring element and asign it to a new variable.\n",
    "# Structuring elements are small binary images that indicate which pixels \n",
    "# should be considered as the 'neighborhood' of the central pixel.\n",
    "# You can use skimage.morphology.diamond to create diamond-shaped structuring element\n",
    "\n",
    "from .. import diamond\n",
    "se = ..\n",
    "\n",
    "# Try morphological operations to further improve the mask\n",
    "# The various operations are available in skimage and ndimage, \n",
    "# for example skimage.morphology.closing and scipy.ndimage.morphology.binary_fill_holes\n",
    "from skimage.morphology import closing\n",
    "from skimage.morphology import opening\n",
    "from scipy.ndimage import binary_fill_holes \n",
    "\n",
    "nmask = opening(closing(.., ..),..)\n",
    "nmask = binary_fill_holes(..)\n",
    "\n",
    "# Visualize the result using plt.imshow and plt.show\n"
   ]
  },
  {
   "cell_type": "markdown",
   "metadata": {},
   "source": [
    "## Exercises 7 - Save image locally"
   ]
  },
  {
   "cell_type": "code",
   "execution_count": null,
   "metadata": {},
   "outputs": [],
   "source": [
    "## import imsave from skimage.io\n",
    "## convert the image nmask to 8-bit (uint8) with values 0 and 255 and save the nmask.\n",
    "from skimage.io import imsave\n",
    "nmask = nmask.astype(numpy.??)\n",
    "nmask = nmask * ..\n",
    "imsave(.., nmask, plugin='tifffile')\n"
   ]
  }
 ],
 "metadata": {
  "kernelspec": {
   "display_name": "OMERO Python 2",
   "language": "python",
   "name": "python2"
  },
  "language_info": {
   "codemirror_mode": {
    "name": "ipython",
    "version": 2
   },
   "file_extension": ".py",
   "mimetype": "text/x-python",
   "name": "python",
   "nbconvert_exporter": "python",
   "pygments_lexer": "ipython2",
   "version": "2.7.3"
  }
 },
 "nbformat": 4,
 "nbformat_minor": 2
}
