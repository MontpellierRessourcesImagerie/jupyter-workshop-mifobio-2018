{
 "cells": [
  {
   "cell_type": "markdown",
   "metadata": {},
   "source": [
    "# Introduction to OMERO (part II)"
   ]
  },
  {
   "cell_type": "markdown",
   "metadata": {},
   "source": [
    "The pipeline presented here will teach you how to import images from OMERO, retrieve the metadata of an image and then render on the notebook.   \n",
    "For more details, visit https://docs.openmicroscopy.org/omero/5.4.8/developers/Python.html"
   ]
  },
  {
   "cell_type": "markdown",
   "metadata": {},
   "source": [
    "## Exercices 1 - Connect to the omero server"
   ]
  },
  {
   "cell_type": "code",
   "execution_count": 2,
   "metadata": {},
   "outputs": [
    {
     "name": "stdout",
     "output_type": "stream",
     "text": [
      "Username: cedrichk\n",
      "OMERO Password: ········\n",
      "Host: omero.mri.cnrs.fr\n",
      "Port: 4064\n"
     ]
    },
    {
     "data": {
      "text/plain": [
       "True"
      ]
     },
     "execution_count": 2,
     "metadata": {},
     "output_type": "execute_result"
    }
   ],
   "source": [
    "# Import BlitzGateway from omero.gateway to access API\n",
    "from omero.gateway import BlitzGateway\n",
    "\n",
    "# The getpass() function prints a prompt then reads input from the user until they press return.\n",
    "# The input is passed back as a string to the caller. For that import getpass from getpass.\n",
    "from getpass import getpass\n",
    "\n",
    "# Use raw_input function to print a prompt for username, host and port.\n",
    "# Warning: For port parameter cast the string to integer.\n",
    "\n",
    "# Fill the parameters of BlitzGateway function: Username, Password, Host and Port\n",
    "# Use connect function to connect you to the omero server.\n",
    "conn = BlitzGateway(\n",
    "    raw_input(\"Username: \"), getpass(\"OMERO Password: \"),\n",
    "    host=raw_input(\"Host: \"), port=int(raw_input(\"Port: \")))\n",
    "conn.connect()"
   ]
  },
  {
   "cell_type": "markdown",
   "metadata": {},
   "source": [
    "## Exercices 2 - Get Images Metadata"
   ]
  },
  {
   "cell_type": "code",
   "execution_count": 8,
   "metadata": {},
   "outputs": [
    {
     "name": "stdout",
     "output_type": "stream",
     "text": [
      "\n",
      "Images in Dataset: images\n",
      " Name: AS_09125_050116030001_D03f00d0.tif, Id: 625142\n",
      " Size X: 512\n",
      " Size Y: 512\n",
      " Size Z: 1\n",
      " Size C: 1\n",
      " Size T: 1\n",
      " Data Type: uint8\n",
      " Name: AS_09125_050116030001_D03f00d1.tif, Id: 625143\n",
      " Size X: 512\n",
      " Size Y: 512\n",
      " Size Z: 1\n",
      " Size C: 1\n",
      " Size T: 1\n",
      " Data Type: uint8\n",
      " Name: AS_09125_050116030001_D03f00d2.tif, Id: 625144\n",
      " Size X: 512\n",
      " Size Y: 512\n",
      " Size Z: 1\n",
      " Size C: 1\n",
      " Size T: 1\n",
      " Data Type: uint8\n"
     ]
    }
   ],
   "source": [
    "# Get the images names from ExampleHuman Project / images dataset\n",
    "dataset = conn.getObject(\"Dataset\", 8604)\n",
    "print \"\\nImages in Dataset:\", dataset.getName()\n",
    "for image in dataset.listChildren():\n",
    "    print \" Name: %s, Id: %s\" % (image.name, image.id)\n",
    "    # Get Images metadata X, Y, Z, C & T dimensions and datatype\n",
    "    print \" Size X:\", image.getSizeX()\n",
    "    print \" Size Y:\", image.getSizeY()\n",
    "    print \" Size Z:\", image.getSizeZ()\n",
    "    print \" Size C:\", image.getSizeC()\n",
    "    print \" Size T:\", image.getSizeT()\n",
    "    print \" Data Type:\", image.getPixelsType()"
   ]
  },
  {
   "cell_type": "markdown",
   "metadata": {},
   "source": [
    "## Exercices 3 - Display Images"
   ]
  },
  {
   "cell_type": "code",
   "execution_count": 20,
   "metadata": {},
   "outputs": [
    {
     "name": "stdout",
     "output_type": "stream",
     "text": [
      "\n",
      "Images in Dataset: images\n"
     ]
    }
   ],
   "source": [
    "# import pyplot from matplotlib\n",
    "import matplotlib.pyplot as plt\n",
    "\n",
    "# display images with renderImage function\n",
    "dataset = conn.getObject(\"Dataset\", 8604)\n",
    "print \"\\nImages in Dataset:\", dataset.getName()\n",
    "for image in dataset.listChildren():\n",
    "    z = 0\n",
    "    t = 0\n",
    "    renderedImage = image.renderImage(z, t)\n",
    "    fig = plt.figure()\n",
    "    plt.imshow(renderedImage)"
   ]
  }
 ],
 "metadata": {
  "kernelspec": {
   "display_name": "Python 2",
   "language": "python",
   "name": "python2"
  },
  "language_info": {
   "codemirror_mode": {
    "name": "ipython",
    "version": 2
   },
   "file_extension": ".py",
   "mimetype": "text/x-python",
   "name": "python",
   "nbconvert_exporter": "python",
   "pygments_lexer": "ipython2",
   "version": "2.7.15"
  }
 },
 "nbformat": 4,
 "nbformat_minor": 2
}
