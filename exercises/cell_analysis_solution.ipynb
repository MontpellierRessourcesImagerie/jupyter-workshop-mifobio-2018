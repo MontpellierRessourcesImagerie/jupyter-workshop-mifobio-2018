{
 "cells": [
  {
   "cell_type": "markdown",
   "metadata": {},
   "source": [
    "# Computing cell mask"
   ]
  },
  {
   "cell_type": "markdown",
   "metadata": {},
   "source": [
    "## Exercises 1 - Adjust Brightness and Contrast"
   ]
  },
  {
   "cell_type": "code",
   "execution_count": 1,
   "metadata": {},
   "outputs": [
    {
     "ename": "NameError",
     "evalue": "name 'tritc' is not defined",
     "output_type": "error",
     "traceback": [
      "\u001b[0;31m-----------------------------------------------------------------------\u001b[0m",
      "\u001b[0;31mNameError\u001b[0m                             Traceback (most recent call last)",
      "\u001b[0;32m<ipython-input-1-4822b3b87d33>\u001b[0m in \u001b[0;36m<module>\u001b[0;34m()\u001b[0m\n\u001b[1;32m      5\u001b[0m \u001b[0;31m# operator '*' for contrast\u001b[0m\u001b[0;34m\u001b[0m\u001b[0;34m\u001b[0m\u001b[0m\n\u001b[1;32m      6\u001b[0m \u001b[0;34m\u001b[0m\u001b[0m\n\u001b[0;32m----> 7\u001b[0;31m \u001b[0mntritc\u001b[0m \u001b[0;34m=\u001b[0m \u001b[0mtritc\u001b[0m \u001b[0;34m*\u001b[0m \u001b[0;36m2.82\u001b[0m \u001b[0;34m-\u001b[0m \u001b[0;36m0.17\u001b[0m\u001b[0;34m\u001b[0m\u001b[0m\n\u001b[0m\u001b[1;32m      8\u001b[0m \u001b[0mnfitc\u001b[0m \u001b[0;34m=\u001b[0m \u001b[0mfitc\u001b[0m \u001b[0;34m*\u001b[0m \u001b[0;36m5.03\u001b[0m \u001b[0;34m-\u001b[0m \u001b[0;36m0.35\u001b[0m\u001b[0;34m\u001b[0m\u001b[0m\n\u001b[1;32m      9\u001b[0m \u001b[0mnhoechst\u001b[0m \u001b[0;34m=\u001b[0m \u001b[0mhoechst\u001b[0m \u001b[0;34m*\u001b[0m \u001b[0;36m2.99\u001b[0m \u001b[0;34m-\u001b[0m \u001b[0;36m0.15\u001b[0m\u001b[0;34m\u001b[0m\u001b[0m\n",
      "\u001b[0;31mNameError\u001b[0m: name 'tritc' is not defined"
     ]
    }
   ],
   "source": [
    "# (i) Adjust Brightness and Contrast\n",
    "# Before compute cell mask, try to increase the brigtness and the contrast of the image. \n",
    "# Note: Play with mathematical operator\n",
    "# operator '+' or '-' for the brigthness\n",
    "# operator '*' for contrast\n",
    "\n",
    "ntritc = tritc * 2.82 - 0.17\n",
    "nfitc = fitc * 5.03 - 0.35\n",
    "nhoechst = hoechst * 2.99 - 0.15\n",
    "\n",
    "#(ii) Visualize the result after create a mix image using plt.imshow and plt.show\n",
    "mix = nfitc+ntritc+nhoechst\n",
    "plt.figure(figsize=(14,14))\n",
    "plt.imshow(mix, cmap = 'gray')\n",
    "plt.show()"
   ]
  },
  {
   "cell_type": "code",
   "execution_count": null,
   "metadata": {},
   "outputs": [],
   "source": [
    "#(iii) Do you improve the light of the image by playing with the gamma.\n",
    "# test operator ^ (** in python) to apply gamma correction\n",
    "mix_2 = (nfitc**2+ntritc**2+nhoechst**2)**0.5\n",
    "\n",
    "#(iv) Visualize the result\n",
    "plt.figure(figsize=(14,14))\n",
    "plt.imshow(mix_2, cmap = 'gray')\n",
    "plt.show()"
   ]
  },
  {
   "cell_type": "markdown",
   "metadata": {},
   "source": [
    "## 2d convolution filter"
   ]
  },
  {
   "cell_type": "markdown",
   "metadata": {},
   "source": [
    "Linear filtering is useful to perform low-pass filtering (to blur images, remove noise...) and high-pass filtering (to detect edges, sharpen images)."
   ]
  },
  {
   "cell_type": "markdown",
   "metadata": {},
   "source": [
    "## Exercises 2 - Apply a convolution filter"
   ]
  },
  {
   "cell_type": "code",
   "execution_count": null,
   "metadata": {},
   "outputs": [],
   "source": [
    "# (i) Create a cross-shaped structuring element and asign it to a new variable.\n",
    "# Structuring elements are small binary images that indicate which pixels \n",
    "# should be considered as the 'neighborhood' of the central pixel.\n",
    "# create a matrix with 3 columns and 3 rows as below\n",
    "# 0 1 0\n",
    "# 1 2 1\n",
    "# 0 1 0\n",
    "# then divide all values by 6 to obtain a float type matrix. Use the function matrix from numpy. \n",
    "se = np.matrix([[0,1,0],[1,2,1],[0,1,0]], dtype='float')/6\n",
    "\n",
    "# (ii) import signal from scipy to get the convolve2d function for execute the 2d convolution filter on the image. \n",
    "# Read the documentation to get more details on the parameters of the function.\n",
    "from scipy import signal\n",
    "\n",
    "cmask = signal.convolve2d(mix_2, se, boundary=\"wrap\", mode=\"same\") >= 0.12"
   ]
  },
  {
   "cell_type": "code",
   "execution_count": null,
   "metadata": {},
   "outputs": [],
   "source": [
    "#(iii) display the result\n",
    "plt.imshow(cmask,interpolation='none',cmap='gray')\n",
    "plt.show()"
   ]
  },
  {
   "cell_type": "code",
   "execution_count": null,
   "metadata": {},
   "outputs": [],
   "source": [
    "# (iii) Create a diamond-shaped structuring element and asign it to a new variable.\n",
    "# Structuring elements are small binary images that indicate which pixels \n",
    "# should be considered as the 'neighborhood' of the central pixel.\n",
    "# You can use skimage.morphology.diamond to create diamond-shaped structuring element\n",
    "se = diamond(1)\n",
    "\n",
    "# (iv) Use morphology operation like closing to improve image\n",
    "cmask = closing(cmask, se)\n",
    "\n",
    "plt.imshow(cmask)"
   ]
  },
  {
   "cell_type": "markdown",
   "metadata": {},
   "source": [
    "# segmenting nuclei using watershed"
   ]
  },
  {
   "cell_type": "markdown",
   "metadata": {},
   "source": [
    "**Background**"
   ]
  },
  {
   "cell_type": "markdown",
   "metadata": {},
   "source": [
    "The algorithm identifies and separates objects that stand out of the background (zero). It inverts the image and uses water to fill the resulting valleys (pixels with high intensity in the source image) until another object or background is met. The deepest valleys become indexed first, starting from 1.   \n",
    "An array of seeds contains a few pixels at the center of each cell labeled by a unique ID number and otherwise surrounded by zeros. The expansion algorithm will start from these central pixels and grow outward until all zeros are overwritten by an ID label. In the case of watershed expansion, one can imagine the seeds as the sources from which water pours into the cells and starts filling them up.   \n",
    "Here, we will use a distance transform and local maxima for seeding."
   ]
  },
  {
   "cell_type": "markdown",
   "metadata": {},
   "source": [
    "## Exercises 3 - Seeded watershed"
   ]
  },
  {
   "cell_type": "code",
   "execution_count": null,
   "metadata": {},
   "outputs": [],
   "source": [
    "# Distance transform on thresholded membranes\n",
    "# Use the function ndi.distance_transform_edt.\n",
    "dist_transf = ndi.distance_transform_edt(nmask)"
   ]
  },
  {
   "cell_type": "code",
   "execution_count": null,
   "metadata": {},
   "outputs": [],
   "source": [
    "# Visualize the output and understand what you are seeing.\n",
    "plt.figure(figsize=(14,14))\n",
    "plt.imshow(dist_transf,interpolation='none',cmap='gray')\n",
    "plt.show()"
   ]
  },
  {
   "cell_type": "code",
   "execution_count": null,
   "metadata": {},
   "outputs": [],
   "source": [
    "# Dilate the distance threshold\n",
    "# Use ndi.filters.maximum_filter to dilate the distance transform.\n",
    "i = 10\n",
    "struct = (np.mgrid[:i,:i][0] - np.floor(i/2))**2 + (np.mgrid[:i,:i][1] - np.floor(i/2))**2 <= np.floor(i/2)**2\n",
    "dist_trans_dil = ndi.filters.maximum_filter(dist_transf, footprint=struct) \n",
    "plt.figure(figsize=(7,7))\n",
    "plt.imshow(dist_trans_dil, interpolation='none', cmap='viridis')\n",
    "plt.show()"
   ]
  },
  {
   "cell_type": "code",
   "execution_count": null,
   "metadata": {},
   "outputs": [],
   "source": [
    "# Retrieve the local maxima (the 'peaks') in the distance transform\n",
    "# Use the function peak_local_max from the module skimage.feature.\n",
    "from skimage.feature import peak_local_max\n",
    "seeds = peak_local_max(dist_trans_dil, indices=False, min_distance=10)"
   ]
  },
  {
   "cell_type": "code",
   "execution_count": null,
   "metadata": {},
   "outputs": [],
   "source": [
    "# Visualize the output\n",
    "# you can first plot the original input (or the smoothed) image and\n",
    "# then plot the seeds on top of it before showing both with 'plt.show'.\n",
    "plt.figure(figsize=(7,7))\n",
    "plt.imshow(hoechst_smooth, interpolation='none', cmap='gray')\n",
    "plt.imshow(np.ma.array(seeds,mask=seeds==0),interpolation='none',cmap='autumn')\n",
    "plt.show()"
   ]
  },
  {
   "cell_type": "code",
   "execution_count": null,
   "metadata": {},
   "outputs": [],
   "source": [
    "# Label the seeds\n",
    "# Use connected component labeling to give each cell seed a unique ID number.\n",
    "seeds_labeled = ndi.label(seeds)[0]"
   ]
  },
  {
   "cell_type": "code",
   "execution_count": null,
   "metadata": {},
   "outputs": [],
   "source": [
    "# Perform watershed\n",
    "# Use the function watershed from the module skimage.morphology.\n",
    "# Use the labeled nuclei seeds and the smoothed nuclei image as input.\n",
    "from skimage.morphology import watershed\n",
    "ws = watershed(hoechst_smooth,seeds_labeled)"
   ]
  },
  {
   "cell_type": "code",
   "execution_count": null,
   "metadata": {},
   "outputs": [],
   "source": [
    "# Show the result as transparent overlay over the smoothed input image\n",
    "plt.figure(figsize=(7,7))\n",
    "plt.imshow(hoechst_smooth, interpolation='none', cmap='gray')\n",
    "plt.imshow(ws,interpolation='none',cmap='prism',alpha=0.4)\n",
    "plt.show()"
   ]
  },
  {
   "cell_type": "markdown",
   "metadata": {},
   "source": [
    "# segmenting cells using Voronoi"
   ]
  },
  {
   "cell_type": "markdown",
   "metadata": {},
   "source": [
    "Find boundaries between adjacent regions in an image, where seeds have been already identified in the individual regions to be segmented. The method finds the Voronoi region of each seed on a manifold with a metric controlled by local image properties. The method is motivated by the problem of finding the borders of cells in microscopy images, given a labelling of the nuclei in the images."
   ]
  },
  {
   "cell_type": "markdown",
   "metadata": {},
   "source": [
    "## Exercises 3 - A modified voronoi algorithm"
   ]
  },
  {
   "cell_type": "code",
   "execution_count": null,
   "metadata": {},
   "outputs": [],
   "source": [
    "# The label function from skimage.measure module finds every connected set of pixels other than the background, \n",
    "# and relabels these sets with a unique increasing integer.\n",
    "from skimage.measure import label\n",
    "markers_nuc = label(nmask, connectivity=2, return_num=True)"
   ]
  },
  {
   "cell_type": "code",
   "execution_count": null,
   "metadata": {},
   "outputs": [],
   "source": [
    "# We apply a sobel filter from skimage.filters to detect edges from cell body and serve as input \n",
    "# for the voronoi algorithm. \n",
    "from skimage.filters import sobel\n",
    "\n",
    "fsobel = np.empty_like(mix_2)\n",
    "fsobel = sobel(mix_2)\n",
    "\n",
    "# Visualize the output\n",
    "plt.imshow(fsobel)"
   ]
  },
  {
   "cell_type": "code",
   "execution_count": null,
   "metadata": {},
   "outputs": [],
   "source": [
    "# This algo is implemented in centrosome package, an open source image processing library.\n",
    "from centrosome.propagate import propagate\n",
    "cell_seg,_ = propagate(image=fsobel, labels=markers_nuc[0], mask=cmask, weight=1)\n",
    "\n",
    "# Visualize the output. Focus on boundaries between labeled \n",
    "# regions highlighted thanks to mark_boundaries from skimage.segmentation and draw contour lines \n",
    "# for nuclei thanks to contour from matplotlib.pyplot.\n",
    "from skimage.segmentation import mark_boundaries\n",
    "plt.imshow(mark_boundaries(composite, cell_seg))\n",
    "plt.contour(nmask, colors = 'r', linewidths = 0.1)"
   ]
  }
 ],
 "metadata": {
  "kernelspec": {
   "display_name": "Python 2",
   "language": "python",
   "name": "python2"
  },
  "language_info": {
   "codemirror_mode": {
    "name": "ipython",
    "version": 2
   },
   "file_extension": ".py",
   "mimetype": "text/x-python",
   "name": "python",
   "nbconvert_exporter": "python",
   "pygments_lexer": "ipython2",
   "version": "2.7.15"
  }
 },
 "nbformat": 4,
 "nbformat_minor": 2
}
