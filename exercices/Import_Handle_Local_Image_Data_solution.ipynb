{
 "cells": [
  {
   "cell_type": "markdown",
   "metadata": {},
   "source": [
    "# Import modules & packages"
   ]
  },
  {
   "cell_type": "markdown",
   "metadata": {},
   "source": [
    "To be able to use declarations and definitions of an existing module, you should use the `import` clause.\n",
    "> import module [as alias]"
   ]
  },
  {
   "cell_type": "markdown",
   "metadata": {},
   "source": [
    "## Exercices 1 - The Import system"
   ]
  },
  {
   "cell_type": "markdown",
   "metadata": {},
   "source": [
    "Import additional modules or packages for the future use in this pipeline."
   ]
  },
  {
   "cell_type": "code",
   "execution_count": 1,
   "metadata": {},
   "outputs": [],
   "source": [
    "# the plotting module matplotlib.pyplot as plt\n",
    "import matplotlib.pyplot\n",
    "\n",
    "# the numpy package for scientific computing is also a great tool for manipulating arrays\n",
    "import numpy as np\n",
    "\n",
    "# the image processing package skimage and ndimage from scipy\n",
    "import skimage\n",
    "import scipy.ndimage as ndi"
   ]
  },
  {
   "cell_type": "markdown",
   "metadata": {},
   "source": [
    "# Importing & Handling Image Data"
   ]
  },
  {
   "cell_type": "markdown",
   "metadata": {},
   "source": [
    "An image is essentially a **matrix of numbers**. Image processing means to carry out mathematical operations on these numbers. The ideal object for storing and manipulating matrices of numbers is the **array**.\n",
    "Many mathematical operations are well defined on arrays and can be computed quickly by vector-based computation. Arrays can have any number of **dimensions** (or \"axis\"). For example, a 2D array could represent the x and y axis of a grayscale image, a 3D array could contain a z-stack (zyx), a 4D array could also have multiple channels for each image (czyx) and a 5D array could have time on top of that (tczyx)."
   ]
  },
  {
   "cell_type": "markdown",
   "metadata": {},
   "source": [
    "## Exercices 2 - Import the local files"
   ]
  },
  {
   "cell_type": "code",
   "execution_count": 2,
   "metadata": {},
   "outputs": [],
   "source": [
    "# (i) Specify the filename\n",
    "# Create a string variable of the file to be imported ('FITC.jpeg')\n",
    "# Suggested name for the variable: filename_1\n",
    "# Note: If the file is not in your current working directory, the filename variable must contain the \n",
    "#       entire path to the file, for example r'/home/cedric/data/FITC.jpeg'. Note the r at\n",
    "#       the beginning of the string: it designates this string as a \"raw\" string, which helps to\n",
    "#       avoid problems with slashes and other special symbols\n",
    "filename_1 = r'/home/cedric/Documents/Atelier_Mifobio/jupyter-workshop-mifobio-2018/exercices/PK-11B-pl1/Well-C003/FITC.jpeg'\n",
    "\n",
    "# Create a string variable of the file to be imported ('Hoechst.jpeg')\n",
    "filename_2 = r'/home/cedric/Documents/Atelier_Mifobio/jupyter-workshop-mifobio-2018/exercices/PK-11B-pl1/Well-C003/Hoechst.jpeg'\n",
    "\n",
    "# Create a string variable of the file to be imported ('Tritc.jpeg')\n",
    "filename_3 = r'/home/cedric/Documents/Atelier_Mifobio/jupyter-workshop-mifobio-2018/exercices/PK-11B-pl1/Well-C003/Tritc.jpeg'\n",
    "\n",
    "# (ii) Load the images\n",
    "# Import the function 'imread' from the module 'skimage.io'\n",
    "from skimage.io import imread\n",
    "\n",
    "# Load 'FITC.jpeg' and store it in a variable.\n",
    "# Suggested name for the variable: fitc\n",
    "fitc = imread(filename_1)\n",
    "\n",
    "# Load 'Hoechst.jpeg' and store it in a variable.\n",
    "# Suggested name for the variable: hoechst\n",
    "hoechst = imread(filename_2)\n",
    "\n",
    "# Load 'Tritc.jpeg' and store it in a variable.\n",
    "# Suggested name for the variable: tritc\n",
    "tritc = imread(filename_3)"
   ]
  },
  {
   "cell_type": "markdown",
   "metadata": {},
   "source": [
    "## Exercices 3 - Data types of the local files"
   ]
  },
  {
   "cell_type": "code",
   "execution_count": 3,
   "metadata": {},
   "outputs": [],
   "source": [
    "# Check the data represention of the images\n",
    "# Check that 'fitc', 'hoechst', 'tritc' is a variable of type 'ndarray' - use Python's built-in function 'type'.\n",
    "print (type(fitc), type(hoechst), type(tritc))\n",
    "\n",
    "# Print the shape of the array using the numpy-function 'shape'. \n",
    "print (numpy.shape(fitc), numpy.shape(hoechst), numpy.shape(tritc))\n",
    "\n",
    "# Check the datatype of the individual numbers in the array. You can use the array attribute 'dtype' to do so.\n",
    "print (fitc.dtype, hoechst.dtype, tritc.dtype)"
   ]
  },
  {
   "cell_type": "markdown",
   "metadata": {},
   "source": [
    "## Exercices 4 - Normalize the images"
   ]
  },
  {
   "cell_type": "code",
   "execution_count": 4,
   "metadata": {},
   "outputs": [],
   "source": [
    "# Normalize images\n",
    "# In order to compare two images we can use the numpy.iinfo function. This function will show us the range of a \n",
    "# data-type, which we can then use to normalize the intensity values in the image.\n",
    "numpy.iinfo(fitc.dtype)\n",
    "fitc = fitc / 255\n",
    "hoechst = hoechst / 255\n",
    "tritc = tritc / 255"
   ]
  },
  {
   "cell_type": "markdown",
   "metadata": {},
   "source": [
    "## Exercices 5 - Visualization"
   ]
  },
  {
   "cell_type": "code",
   "execution_count": 1,
   "metadata": {},
   "outputs": [],
   "source": [
    "# Look at the images to check that all is OK.\n",
    "# Use pyplot's functions plt.imshow followed by plt.show. \n",
    "# Check the documentation for plt.imshow and note the parameters that can be specified, such as the color map (cmap)\n",
    "# and interpolation. To switch of interpolation you can set it to 'none'. To apply a colormap to the image, set cmap to\n",
    "# the name of the color, for example 'gray'.\n",
    "# You may also want to adjust the size of the figure. You can do this by preparing the figure canvas with\n",
    "# the function plt.figure before calling plt.imshow. The canvas size is adjusted using the keyword argument\n",
    "# figsize when calling plt.figure.\n",
    "plt.figure(figsize=[5.1, 10.24])\n",
    "plt.imshow(fitc, interpolation='None', cmap='gray')\n",
    "plt.show()\n",
    "plt.figure(figsize=[5.1, 10.24])\n",
    "plt.imshow(hoechst, interpolation='None', cmap='gray')\n",
    "plt.show()\n",
    "plt.figure(figsize=[5.1, 10.24])\n",
    "plt.imshow(tritc, interpolation='None', cmap='gray')\n",
    "plt.show()\n",
    "\n",
    "# Create a composite image.\n",
    "# The function gray2rgb from the module skimage.color converts a grayscale image into an rgb image. The resulting \n",
    "# rgb image is a three dimensional array in which each channel r,g and b contains the same numbers.\n",
    "# In order to create a composite image of the three input images, you can set the unwanted channels to zero in each image \n",
    "# by multiplying the image with a corresponding vector, for example [1, 0 ,0] to keep only the red channel and then add \n",
    "# the three images using the + operation. Store the new image in a variable composite. Display the composite image using\n",
    "# the functions above.\n",
    "fitc_rgb = skimage.color.gray2rgb(fitc)\n",
    "hoechst_rgb = skimage.color.gray2rgb(hoechst)\n",
    "tritc_rgb = skimage.color.gray2rgb(tritc)\n",
    "\n",
    "tritc_green = tritc_rgb * [0,1,0]\n",
    "hoechst_blue = hoechst_rgb * [0,0,1]\n",
    "fitc_red = fitc_rgb * [1,0,0]\n",
    "\n",
    "composite = fitc_red + tritc_green + hoechst_blue\n",
    "plt.figure(figsize=[14, 14])\n",
    "plt.imshow(composite)\n",
    "plt.show()\n"
   ]
  },
  {
   "cell_type": "code",
   "execution_count": null,
   "metadata": {},
   "outputs": [],
   "source": []
  }
 ],
 "metadata": {
  "kernelspec": {
   "display_name": "Python 2",
   "language": "python",
   "name": "python2"
  },
  "language_info": {
   "codemirror_mode": {
    "name": "ipython",
    "version": 2
   },
   "file_extension": ".py",
   "mimetype": "text/x-python",
   "name": "python",
   "nbconvert_exporter": "python",
   "pygments_lexer": "ipython2",
   "version": "2.7.15"
  }
 },
 "nbformat": 4,
 "nbformat_minor": 2
}
