{
 "cells": [
  {
   "cell_type": "markdown",
   "metadata": {},
   "source": [
    "# Introduction to OMERO (part I)"
   ]
  },
  {
   "cell_type": "markdown",
   "metadata": {},
   "source": [
    "The idea of the pipeline here is to become familiar with the omero web interface. Then, after a quick tour of the interface, the goal is to learn about the Omero API via python calls.   \n",
    "For more details, visit <https://docs.openmicroscopy.org/omero/5.4.8/developers/Python.html>"
   ]
  },
  {
   "cell_type": "markdown",
   "metadata": {},
   "source": [
    "## Exercises 1 - Explore omero.web"
   ]
  },
  {
   "cell_type": "markdown",
   "metadata": {},
   "source": [
    "* Login to omero-web (login: user01, password: mifobio2018)\n",
    "\n",
    "* Familiarize yourself with the tree browser, thumbnails and metadata of various projects, datasets and images. Click on the group mifobio and select 'all members' to see the images\n",
    "\n",
    "* Note the ids of projects, datasets and images"
   ]
  },
  {
   "cell_type": "markdown",
   "metadata": {},
   "source": [
    "## Exercises 2 - Connect to the omero server"
   ]
  },
  {
   "cell_type": "code",
   "execution_count": null,
   "metadata": {},
   "outputs": [],
   "source": [
    "# The 2 lines below are there to set the path to the OMERO python client. \n",
    "import sys\n",
    "sys.path.append('../../OMERO.server/lib/python')\n",
    "\n",
    "# Import the BlitzGateway from omero.gateway to access the omero-server\n",
    "from omero.gateway import BlitzGateway\n",
    "\n",
    "# The getpass() function prints a prompt and reads input from the user.\n",
    "# The input is passed back as a string to the caller. Import getpass from getpass.\n",
    "from getpass import getpass\n",
    "\n",
    "# Assign the hostname (ip-address) and the port-number (it is displayed on the login page of omero-web) to variables.\n",
    "# Warning: The hostname must be a string and the port number an integer.\n",
    "host = \"localhost\"\n",
    "port = 4064\n",
    "\n",
    "# Use the raw_input function to print a prompt for the username (user1). \n",
    "username = raw_input(\"Username: \")\n",
    "\n",
    "# Use the getpass function to ask the user for the password (mifobio2018) and asign it to a variable (=)\n",
    "password = getpass(\"Password: \")\n",
    "\n",
    "# Create a new BlitzGateway by calling the function BlitzGateway(...,...,host=...,port=...) with the parameters \n",
    "# username, password, host and port. Use a new variable named conn to assign the output of this function.\n",
    "\n",
    "conn = BlitzGateway(username, password, host=host, port=port)\n",
    "\n",
    "\n",
    "# Use the connect function of the BlitzGateway (using the variable conn) to connect to the omero server.\n",
    "conn.connect()"
   ]
  },
  {
   "cell_type": "markdown",
   "metadata": {},
   "source": [
    "## Exercises 3 - Get user information"
   ]
  },
  {
   "cell_type": "code",
   "execution_count": null,
   "metadata": {},
   "outputs": [],
   "source": [
    "# getUser function return the credentials of the current user.\n",
    "# create a variable to assign the output of this function\n",
    "user = conn.getUser()\n",
    "\n",
    "# Get your name and fullname from the newly created variable\n",
    "print \"Fullname is: \",user.getName()\n",
    "print \"Name is: \",user.getFullName()\n",
    "\n",
    "# Get your group using the getGroupsMemberOf function and your current group using getGroupFromContext().\n",
    "# Print also the outputs.\n",
    "# If you are member of several groups, you should use for clause to loop over groups \n",
    "print \"Member of:\"\n",
    "for g in conn.getGroupsMemberOf():\n",
    "    print \"ID: \",g.getName(), \"Name: \",g.getId()\n",
    "print \"Current group:\"\n",
    "group = conn.getGroupFromContext()\n",
    "print group.getName()"
   ]
  },
  {
   "cell_type": "markdown",
   "metadata": {},
   "source": [
    "## Exercises 4 - Get Projects and Datasets information"
   ]
  },
  {
   "cell_type": "code",
   "execution_count": null,
   "metadata": {
    "scrolled": true
   },
   "outputs": [],
   "source": [
    "# Get the number of datasets for each project\n",
    "# Use getObjects function to retrieve Project or dataset\n",
    "# Use listChildren function to get a list of project's children\n",
    "# Note: use two loops - first to iterate over project and second to iterate over dataset\n",
    "# For you help you can take example of the code below\n",
    "\n",
    "sum = 0\n",
    "for project in conn.getObjects('Project'):\n",
    "    sum += 1\n",
    "print \"Number of projects: \",sum\n",
    "\n",
    "\n",
    "for project in conn.getObjects('Project'):\n",
    "    sum = 0\n",
    "    for dataset in project.listChildren():\n",
    "        print \"Project Name: \",project.getName()\n",
    "        sum +=1\n",
    "    print \"Number of datasets: \",sum"
   ]
  },
  {
   "cell_type": "code",
   "execution_count": null,
   "metadata": {},
   "outputs": [],
   "source": []
  }
 ],
 "metadata": {
  "kernelspec": {
   "display_name": "Python [conda env:py27]",
   "language": "python",
   "name": "conda-env-py27-py"
  },
  "language_info": {
   "codemirror_mode": {
    "name": "ipython",
    "version": 2
   },
   "file_extension": ".py",
   "mimetype": "text/x-python",
   "name": "python",
   "nbconvert_exporter": "python",
   "pygments_lexer": "ipython2",
   "version": "2.7.15"
  }
 },
 "nbformat": 4,
 "nbformat_minor": 2
}
