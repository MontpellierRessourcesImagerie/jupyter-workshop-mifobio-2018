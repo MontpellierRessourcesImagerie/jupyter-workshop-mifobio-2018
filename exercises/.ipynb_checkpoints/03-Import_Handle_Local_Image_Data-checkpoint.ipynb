{
 "cells": [
  {
   "cell_type": "markdown",
   "metadata": {},
   "source": [
    "# Import modules & packages"
   ]
  },
  {
   "cell_type": "markdown",
   "metadata": {},
   "source": [
    "To be able to use declarations and definitions of an existing module, you should use the `import` clause.\n",
    "> import module [as alias]"
   ]
  },
  {
   "cell_type": "code",
   "execution_count": null,
   "metadata": {},
   "outputs": [],
   "source": [
    "from __future__ import division"
   ]
  },
  {
   "cell_type": "markdown",
   "metadata": {},
   "source": [
    "## Exercises 1 - The Import system"
   ]
  },
  {
   "cell_type": "markdown",
   "metadata": {},
   "source": [
    "Import additional modules or packages for the future use in this pipeline."
   ]
  },
  {
   "cell_type": "code",
   "execution_count": null,
   "metadata": {},
   "outputs": [],
   "source": [
    "# the plotting module matplotlib.pyplot as plt\n",
    "\n",
    "# the numpy package for scientific computing is also a great tool for manipulating arrays\n",
    "\n",
    "# the image processing package skimage and ndimage from scipy"
   ]
  },
  {
   "cell_type": "markdown",
   "metadata": {},
   "source": [
    "# Importing & Handling Image Data"
   ]
  },
  {
   "cell_type": "markdown",
   "metadata": {},
   "source": [
    "An image is essentially a **matrix of numbers**. Image processing means to carry out mathematical operations on these numbers. The ideal object for storing and manipulating matrices of numbers is the **array**.\n",
    "Many mathematical operations are well defined on arrays and can be computed quickly by vector-based computation. Arrays can have any number of **dimensions** (or \"axis\"). For example, a 2D array could represent the x and y axis of a grayscale image, a 3D array could contain a z-stack (zyx), a 4D array could also have multiple channels for each image (czyx) and a 5D array could have time on top of that (tczyx)."
   ]
  },
  {
   "cell_type": "markdown",
   "metadata": {},
   "source": [
    "## Exercises 2 - Import the local files"
   ]
  },
  {
   "cell_type": "code",
   "execution_count": null,
   "metadata": {},
   "outputs": [],
   "source": [
    "# (i) Specify the filename\n",
    "# Create a string variable of the file to be imported ('fitc.jpeg')\n",
    "# Suggested name for the variable: filename_1\n",
    "# Note: If the file is not in your current working directory, the filename variable must contain the \n",
    "#       entire path to the file, for example r'/home/jovyan/mifobio_2018/exercises/fitc.jpeg'. Note the r at\n",
    "#       the beginning of the string: it designates this string as a \"raw\" string, which helps to\n",
    "#       avoid problems with slashes and other special symbols\n",
    "\n",
    "# Create a string variable of the file to be imported ('hoechst.jpeg')\n",
    "\n",
    "# Create a string variable of the file to be imported ('tritc.jpeg')\n",
    "\n",
    "# (ii) Load the images\n",
    "# Import the function 'imread' from the module 'skimage.io'\n",
    "\n",
    "# Load 'fitc.jpeg' and store it in a variable.\n",
    "# Suggested name for the variable: fitc\n",
    "\n",
    "# Load 'Hoechst.jpeg' and store it in a variable.\n",
    "# Suggested name for the variable: hoechst\n",
    "\n",
    "# Load 'Tritc.jpeg' and store it in a variable.\n",
    "# Suggested name for the variable: tritc\n"
   ]
  },
  {
   "cell_type": "markdown",
   "metadata": {},
   "source": [
    "## Exercises 3 - Data types of the local files"
   ]
  },
  {
   "cell_type": "code",
   "execution_count": null,
   "metadata": {},
   "outputs": [],
   "source": [
    "# Check the data represention of the images\n",
    "# Check that 'fitc', 'hoechst', 'tritc' is a variable of type 'ndarray' - use Python's built-in function 'type'.\n",
    "\n",
    "# Print the shape of the array using the numpy-function 'shape'. \n",
    "\n",
    "# Check the datatype of the individual numbers in the array. You can use the array attribute 'dtype' to do so.\n"
   ]
  },
  {
   "cell_type": "markdown",
   "metadata": {},
   "source": [
    "## Exercises 4 - Normalize the images"
   ]
  },
  {
   "cell_type": "code",
   "execution_count": null,
   "metadata": {},
   "outputs": [],
   "source": [
    "# Normalize images\n",
    "# The function numpy.iinfo() answers the min. and max. values of a datatype. Use this information to \n",
    "# normalize the intensity values in the image (map the values between 0 and 255 to the intervall [0,1]).\n"
   ]
  },
  {
   "cell_type": "markdown",
   "metadata": {},
   "source": [
    "## Exercises 5 - Visualization"
   ]
  },
  {
   "cell_type": "code",
   "execution_count": null,
   "metadata": {},
   "outputs": [],
   "source": [
    "# Display the images to check that all is OK.\n",
    "# Use pyplot's functions plt.imshow followed by plt.show. \n",
    "# Check the documentation for plt.imshow and note the parameters that can be specified, such as the color map (cmap)\n",
    "# and interpolation. To switch of interpolation you can set it to 'none'. To apply a colormap to the image, set cmap to\n",
    "# the name of the color, for example 'gray'.\n",
    "# You may also want to adjust the size of the figure. You can do this by preparing the figure canvas with\n",
    "# the function plt.figure before calling plt.imshow. The canvas size is adjusted using the keyword argument\n",
    "# figsize when calling plt.figure.\n",
    "\n",
    "\n",
    "# Create a composite image.\n",
    "# The function gray2rgb from the module skimage.color converts a grayscale image into an rgb image. The resulting \n",
    "# rgb image is a three dimensional array in which each channel r,g and b contains the same numbers.\n",
    "# In order to create a composite image of the three input images, you can set the unwanted channels to zero in each image \n",
    "# by multiplying the image with a corresponding vector, for example [1, 0 ,0] to keep only the red channel and then add \n",
    "# the three images using the + operation. Store the new image in a variable composite. Display the composite image using\n",
    "# the functions above.\n"
   ]
  },
  {
   "cell_type": "markdown",
   "metadata": {},
   "source": [
    "## Exercises 6 - save image"
   ]
  },
  {
   "cell_type": "code",
   "execution_count": null,
   "metadata": {},
   "outputs": [],
   "source": [
    "# import imsave from skimage.io\n",
    "# to save the composite image\n"
   ]
  }
 ],
 "metadata": {
  "kernelspec": {
   "display_name": "OMERO Python 2",
   "language": "python",
   "name": "python2"
  },
  "language_info": {
   "codemirror_mode": {
    "name": "ipython",
    "version": 2
   },
   "file_extension": ".py",
   "mimetype": "text/x-python",
   "name": "python",
   "nbconvert_exporter": "python",
   "pygments_lexer": "ipython2",
   "version": "2.7.3"
  }
 },
 "nbformat": 4,
 "nbformat_minor": 2
}
