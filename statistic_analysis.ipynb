{
 "cells": [
  {
   "cell_type": "markdown",
   "metadata": {},
   "source": [
    "## Statistic descriptive"
   ]
  },
  {
   "cell_type": "markdown",
   "metadata": {},
   "source": [
    "For read a file we use the **read.delim** function from *utils* package. We also get the internal structure of object via **str** function.  \n",
    "For each wells, we calculate the MI on measurements given by image analysis. We call the **summary** function from base r to get the min, the 25 percentile, the 50 percentile, the 75 percentile, the mean and the max of the distribution.  "
   ]
  },
  {
   "cell_type": "code",
   "execution_count": 1,
   "metadata": {},
   "outputs": [
    {
     "name": "stdout",
     "output_type": "stream",
     "text": [
      "'data.frame':\t6 obs. of  40 variables:\n",
      " $ p13K11_nuc: int  116 122 171 98 202 223\n",
      " $ p13K11_ph3: int  18 26 26 13 45 39\n",
      " $ p13K13_nuc: int  72 177 79 69 85 69\n",
      " $ p13K13_ph3: int  4 5 2 3 3 0\n",
      " $ p13K15_nuc: int  69 230 278 157 162 87\n",
      " $ p13K15_ph3: int  3 21 10 7 8 0\n",
      " $ p13K17_nuc: int  91 167 89 96 108 66\n",
      " $ p13K17_ph3: int  4 11 6 9 2 3\n",
      " $ p13K19_nuc: int  73 71 138 127 116 142\n",
      " $ p13K19_ph3: int  48 37 73 57 72 93\n",
      " $ p5A12_nuc : int  45 78 130 105 130 46\n",
      " $ p5A12_ph3 : int  0 0 1 0 0 0\n",
      " $ p5A14_nuc : int  49 26 122 100 112 65\n",
      " $ p5A14_ph3 : int  0 1 3 3 0 0\n",
      " $ p5A16_nuc : int  21 119 298 245 305 69\n",
      " $ p5A16_ph3 : int  1 0 0 2 2 0\n",
      " $ p5A18_nuc : int  39 58 298 315 292 120\n",
      " $ p5A18_ph3 : int  10 8 38 25 41 14\n",
      " $ p5A20_nuc : int  63 159 473 290 226 171\n",
      " $ p5A20_ph3 : int  0 9 8 0 10 6\n",
      " $ p5O10_nuc : int  22 50 30 79 88 141\n",
      " $ p5O10_ph3 : int  6 2 17 19 22 26\n",
      " $ p5O12_nuc : int  108 133 163 136 159 128\n",
      " $ p5O12_ph3 : int  6 2 4 6 12 15\n",
      " $ p5O4_nuc  : int  138 109 116 81 101 216\n",
      " $ p5O4_ph3  : int  4 6 6 2 3 14\n",
      " $ p5O6_nuc  : int  33 28 27 42 38 63\n",
      " $ p5O6_ph3  : int  0 2 1 0 4 5\n",
      " $ p5O8_nuc  : int  129 288 186 248 338 415\n",
      " $ p5O8_ph3  : int  12 9 6 10 20 13\n",
      " $ p8E24_nuc : int  68 207 47 64 59 119\n",
      " $ p8E24_ph3 : int  4 2 0 1 0 1\n",
      " $ p8G2_nuc  : int  101 49 64 104 373 308\n",
      " $ p8G2_ph3  : int  12 5 6 16 53 26\n",
      " $ p8G4_nuc  : int  251 327 358 351 390 555\n",
      " $ p8G4_ph3  : int  9 14 15 27 9 30\n",
      " $ p8G6_nuc  : int  169 77 95 99 114 92\n",
      " $ p8G6_ph3  : int  9 3 5 7 4 11\n",
      " $ p8G8_nuc  : int  110 126 155 142 252 166\n",
      " $ p8G8_ph3  : int  8 12 10 7 33 6\n"
     ]
    }
   ],
   "source": [
    "data <- read.delim(\"~/Documents/Atelier_Mifobio/Jupyter/test.txt\")\n",
    "str(data)"
   ]
  },
  {
   "cell_type": "code",
   "execution_count": 2,
   "metadata": {},
   "outputs": [
    {
     "data": {
      "text/plain": [
       "     p13K11           p13K13            p13K15            p13K17       \n",
       " Min.   :0.1327   Min.   :0.00000   Min.   :0.00000   Min.   :0.01852  \n",
       " 1st Qu.:0.1528   1st Qu.:0.02605   1st Qu.:0.03785   1st Qu.:0.04433  \n",
       " Median :0.1650   Median :0.03177   Median :0.04403   Median :0.05566  \n",
       " Mean   :0.1751   Mean   :0.03132   Mean   :0.04412   Mean   :0.05583  \n",
       " 3rd Qu.:0.2036   3rd Qu.:0.04143   3rd Qu.:0.04818   3rd Qu.:0.06703  \n",
       " Max.   :0.2228   Max.   :0.05556   Max.   :0.09130   Max.   :0.09375  \n",
       "     p13K19           p5A12              p5A14             p5A16         \n",
       " Min.   :0.4488   Min.   :0.000000   Min.   :0.00000   Min.   :0.000000  \n",
       " 1st Qu.:0.5231   1st Qu.:0.000000   1st Qu.:0.00000   1st Qu.:0.000000  \n",
       " Median :0.5748   Median :0.000000   Median :0.01230   Median :0.003279  \n",
       " Mean   :0.5720   Mean   :0.001282   Mean   :0.01551   Mean   :0.010390  \n",
       " 3rd Qu.:0.6464   3rd Qu.:0.000000   3rd Qu.:0.02865   3rd Qu.:0.007762  \n",
       " Max.   :0.6575   Max.   :0.007692   Max.   :0.03846   Max.   :0.047619  \n",
       "     p5A18             p5A20              p5O10            p5O12        \n",
       " Min.   :0.07937   Min.   :0.000000   Min.   :0.0400   Min.   :0.01504  \n",
       " 1st Qu.:0.11938   1st Qu.:0.004228   1st Qu.:0.1984   1st Qu.:0.02943  \n",
       " Median :0.13272   Median :0.026001   Median :0.2453   Median :0.04984  \n",
       " Mean   :0.14305   Mean   :0.025475   Mean   :0.2590   Mean   :0.05532  \n",
       " 3rd Qu.:0.13979   3rd Qu.:0.041958   3rd Qu.:0.2670   3rd Qu.:0.07049  \n",
       " Max.   :0.25641   Max.   :0.056604   Max.   :0.5667   Max.   :0.11719  \n",
       "      p5O4              p5O6               p5O8             p8E24         \n",
       " Min.   :0.02469   Min.   :0.000000   Min.   :0.03125   Min.   :0.000000  \n",
       " 1st Qu.:0.02916   1st Qu.:0.009259   1st Qu.:0.03156   1st Qu.:0.002101  \n",
       " Median :0.04071   Median :0.054233   Median :0.03629   Median :0.009033  \n",
       " Mean   :0.04249   Mean   :0.048849   Mean   :0.04789   Mean   :0.015419  \n",
       " 3rd Qu.:0.05422   3rd Qu.:0.077381   3rd Qu.:0.05446   3rd Qu.:0.014134  \n",
       " Max.   :0.06481   Max.   :0.105263   Max.   :0.09302   Max.   :0.058824  \n",
       "      p8G2              p8G4              p8G6              p8G8        \n",
       " Min.   :0.08442   Min.   :0.02308   Min.   :0.03509   Min.   :0.03614  \n",
       " 1st Qu.:0.09582   1st Qu.:0.03737   1st Qu.:0.04238   1st Qu.:0.05310  \n",
       " Median :0.11043   Median :0.04236   Median :0.05294   Median :0.06862  \n",
       " Mean   :0.11583   Mean   :0.04577   Mean   :0.06170   Mean   :0.07481  \n",
       " 3rd Qu.:0.13627   3rd Qu.:0.05124   3rd Qu.:0.06634   3rd Qu.:0.08961  \n",
       " Max.   :0.15385   Max.   :0.07692   Max.   :0.11957   Max.   :0.13095  "
      ]
     },
     "metadata": {},
     "output_type": "display_data"
    }
   ],
   "source": [
    "#calculate MI by field\n",
    "MI = list()\n",
    "incr = 1\n",
    "for(i in seq(0, length(data), by = 2)){\n",
    "  if(i == length(data)) return()\n",
    "  MI[[incr]] = data[[i+2]]/data[[i+1]]\n",
    "  incr = incr + 1\n",
    "}\n",
    "\n",
    "MI.df = as.data.frame(do.call(\"cbind\", MI))\n",
    "\n",
    "seqi = seq(2, length(data), by = 2)\n",
    "headers = colnames(data[,seqi])\n",
    "headers = sub('_(.*)', '', headers)\n",
    "\n",
    "colnames(MI.df) <- headers\n",
    "\n",
    "summary(MI.df)"
   ]
  },
  {
   "cell_type": "markdown",
   "metadata": {},
   "source": [
    "## Visualisation"
   ]
  },
  {
   "cell_type": "markdown",
   "metadata": {},
   "source": [
    "To get some information about the distribution of data, we can create a boxplot. Thanks to the package *ggplot2* we can generate various plots. For this, the function **geom_boxplot** is used. Before we use this function we reshape the data with the *tidyr* package. The package *tidyverse* contains these packages."
   ]
  },
  {
   "cell_type": "code",
   "execution_count": null,
   "metadata": {},
   "outputs": [],
   "source": [
    "library(tidyverse)\n",
    "\n",
    "rMI <- gather(MI.df,\"genes\",\"value\",1:20)\n",
    "ggplot(rMI, aes(genes, value)) + geom_boxplot() + theme(axis.text.x=element_text(angle=50, size=10, vjust=0.5))"
   ]
  },
  {
   "cell_type": "markdown",
   "metadata": {},
   "source": [
    "## Compare an observed proportion to a theoretical one"
   ]
  },
  {
   "cell_type": "markdown",
   "metadata": {},
   "source": [
    "Typical wells have a reference MI value of 5 percent. We decided compare the MI value for each well with this reference value to find genes that regulate cell cycle."
   ]
  },
  {
   "cell_type": "code",
   "execution_count": null,
   "metadata": {},
   "outputs": [],
   "source": [
    "### sum to get the MI on the entire well\n",
    "data2 <- data %>% summarise_all(sum)\n",
    "\n",
    "prop.test(x = data2[[4]], n = data2[[3]], p = 0.05, correct = FALSE, alternative = \"greater\")\n",
    "\n",
    "#MI = vector()\n",
    "#incr = 1\n",
    "#for(i in seq(0, length(data2), by = 2)){\n",
    "#  if(i == length(data2)) return()\n",
    "#  MI[incr] = data2[[i+2]]/data2[[i+1]]\n",
    "#  incr = incr + 1\n",
    "#}\n",
    "\n",
    "#prop.test(x = 95, n = 160, p = 0.5, correct = FALSE,\n",
    "#              alternative = \"greater\")"
   ]
  },
  {
   "cell_type": "markdown",
   "metadata": {},
   "source": [
    "Interpretation"
   ]
  }
 ],
 "metadata": {
  "kernelspec": {
   "display_name": "R",
   "language": "R",
   "name": "ir"
  },
  "language_info": {
   "codemirror_mode": "r",
   "file_extension": ".r",
   "mimetype": "text/x-r-source",
   "name": "R",
   "pygments_lexer": "r",
   "version": "3.4.4"
  }
 },
 "nbformat": 4,
 "nbformat_minor": 2
}
