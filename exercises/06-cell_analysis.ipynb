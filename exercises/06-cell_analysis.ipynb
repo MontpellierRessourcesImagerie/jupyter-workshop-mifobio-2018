{
 "cells": [
  {
   "cell_type": "markdown",
   "metadata": {},
   "source": [
    "# Computing cell mask"
   ]
  },
  {
   "cell_type": "code",
   "execution_count": 1,
   "metadata": {},
   "outputs": [],
   "source": [
    "from __future__ import division"
   ]
  },
  {
   "cell_type": "markdown",
   "metadata": {},
   "source": [
    "## Exercises 1 - read images"
   ]
  },
  {
   "cell_type": "code",
   "execution_count": 3,
   "metadata": {},
   "outputs": [],
   "source": [
    "# import imread from skimage\n",
    "from skimage.io import imread\n",
    "from skimage.util import img_as_float\n",
    "\n",
    "# read fitc, tritc, hoechst, smoothed_image and composite saved previously\n",
    "# convert the mages to float\n",
    "\n",
    "fitc = imread(r'fitc.jpeg')\n",
    "tritc = imread(r'tritc.jpeg')\n",
    "hoechst = imread(r'hoechst.jpeg')\n",
    "smoothed_image = imread(r'smoothed_image.jpeg')\n",
    "composite = imread(r'composite.jpeg')\n",
    "\n",
    "fitc = img_as_float(fitc)\n",
    "tritc = img_as_float(tritc)\n",
    "hoechst = img_as_float(hoechst)\n",
    "smoothed_image = img_as_float(smoothed_image)\n",
    "composite = img_as_float(composite)\n"
   ]
  },
  {
   "cell_type": "markdown",
   "metadata": {},
   "source": [
    "#### re-calculate the mask of the nuclei seen previously with nuclei_analysis notebook"
   ]
  },
  {
   "cell_type": "code",
   "execution_count": null,
   "metadata": {},
   "outputs": [],
   "source": [
    "import numpy\n",
    "from skimage.filters import threshold_otsu\n",
    "\n",
    "nmask = numpy.zeros(smoothed_image.shape, dtype = bool)\n",
    "nmask[smoothed_image > threshold_otsu(smoothed_image)] = 1\n",
    "from skimage.morphology import diamond\n",
    "se = diamond(1)\n",
    "\n",
    "from skimage.morphology import closing\n",
    "from skimage.morphology import opening\n",
    "from scipy.ndimage import binary_fill_holes \n",
    "\n",
    "nmask = opening(closing(nmask, se),se)\n",
    "nmask = binary_fill_holes(nmask)"
   ]
  },
  {
   "cell_type": "markdown",
   "metadata": {},
   "source": [
    "## Exercises 2 - Adjust Brightness and Contrast"
   ]
  },
  {
   "cell_type": "code",
   "execution_count": null,
   "metadata": {},
   "outputs": [],
   "source": [
    "# Before doing a segmentation of the the cell image, try to increase the brigtness and the contrast of the image. \n",
    "# Note: Play with mathematical operator\n",
    "# operator '+' or '-' for the brigthness\n",
    "# operator '*' for contrast\n",
    "\n",
    "\n",
    "\n",
    "# Visualize the result after having created a composite image using plt.imshow and plt.show\n"
   ]
  },
  {
   "cell_type": "code",
   "execution_count": null,
   "metadata": {},
   "outputs": [],
   "source": [
    "# Improve the brightness of the image by playing with the gamma.\n",
    "# Use the operator ^ (** in python) to apply a gamma correction\n",
    "\n",
    "\n",
    "# Visualize the result\n"
   ]
  },
  {
   "cell_type": "markdown",
   "metadata": {},
   "source": [
    "## 2d convolution filter"
   ]
  },
  {
   "cell_type": "markdown",
   "metadata": {},
   "source": [
    "Linear filtering is useful to perform low-pass filtering (to blur images, remove noise...) and high-pass filtering (to detect edges, sharpen images)."
   ]
  },
  {
   "cell_type": "markdown",
   "metadata": {},
   "source": [
    "## Exercises 3 - Apply a convolution filter"
   ]
  },
  {
   "cell_type": "code",
   "execution_count": null,
   "metadata": {},
   "outputs": [],
   "source": [
    "# Create a cross-shaped structuring element and asign it to a new variable.\n",
    "# Structuring elements are small binary images that indicate which pixels \n",
    "# should be considered as the 'neighborhood' of the central pixel.\n",
    "# create a matrix with 3 columns and 3 rows as below\n",
    "# 0 1 0\n",
    "# 1 2 1\n",
    "# 0 1 0\n",
    "# then divide all values by 6 to obtain a float type matrix. Use the function matrix from numpy. \n",
    "\n",
    "\n",
    "# import signal from scipy to get the convolve2d function. Execute the 2d convolution filter on the image. \n",
    "# Read the documentation to get more details on the parameters of the function.\n"
   ]
  },
  {
   "cell_type": "code",
   "execution_count": null,
   "metadata": {},
   "outputs": [],
   "source": [
    "# display the result\n"
   ]
  },
  {
   "cell_type": "code",
   "execution_count": null,
   "metadata": {},
   "outputs": [],
   "source": [
    "# Create a diamond-shaped structuring element and asign it to a new variable.\n",
    "# Structuring elements are small binary images that indicate which pixels \n",
    "# should be considered as the 'neighborhood' of the central pixel.\n",
    "# You can use skimage.morphology.diamond to create diamond-shaped structuring element\n",
    "\n",
    "\n",
    "# Use morphology operation like closing to improve image\n"
   ]
  },
  {
   "cell_type": "markdown",
   "metadata": {},
   "source": [
    "# segmenting nuclei using watershed"
   ]
  },
  {
   "cell_type": "markdown",
   "metadata": {},
   "source": [
    "**Background**"
   ]
  },
  {
   "cell_type": "markdown",
   "metadata": {},
   "source": [
    "The algorithm identifies and separates objects that stand out of the background (zero). It inverts the image and uses water to fill the resulting valleys (pixels with high intensity in the source image) until another object or background is met. The deepest valleys become indexed first, starting from 1.   \n",
    "An array of seeds contains a few pixels at the center of each cell labeled by a unique ID number and otherwise surrounded by zeros. The expansion algorithm will start from these central pixels and grow outward until all zeros are overwritten by an ID label. In the case of watershed expansion, one can imagine the seeds as the sources from which water pours into the cells and starts filling them up.   \n",
    "Here, we will use a distance transform and local maxima for seeding."
   ]
  },
  {
   "cell_type": "markdown",
   "metadata": {},
   "source": [
    "## Exercises 4 - Seeded watershed"
   ]
  },
  {
   "cell_type": "code",
   "execution_count": null,
   "metadata": {},
   "outputs": [],
   "source": [
    "# Distance transform on thresholded membranes\n",
    "# Use the function ndi.distance_transform_edt.\n"
   ]
  },
  {
   "cell_type": "code",
   "execution_count": null,
   "metadata": {},
   "outputs": [],
   "source": [
    "# Visualize the output.\n"
   ]
  },
  {
   "cell_type": "code",
   "execution_count": null,
   "metadata": {},
   "outputs": [],
   "source": [
    "# Use ndi.filters.maximum_filter to dilate the distance transform.\n"
   ]
  },
  {
   "cell_type": "code",
   "execution_count": null,
   "metadata": {},
   "outputs": [],
   "source": [
    "# Retrieve the local maxima (the 'peaks') in the distance transform\n",
    "# Use the function peak_local_max from the module skimage.feature.\n"
   ]
  },
  {
   "cell_type": "code",
   "execution_count": null,
   "metadata": {},
   "outputs": [],
   "source": [
    "# Visualize the output\n",
    "# you can first plot the original input (or the smoothed) image and\n",
    "# then plot the seeds on top of it before showing both with 'plt.show'.\n"
   ]
  },
  {
   "cell_type": "code",
   "execution_count": null,
   "metadata": {},
   "outputs": [],
   "source": [
    "# Label the seeds\n",
    "# Use connected component labeling to give each cell seed a unique ID number.\n"
   ]
  },
  {
   "cell_type": "code",
   "execution_count": null,
   "metadata": {},
   "outputs": [],
   "source": [
    "# Perform watershed\n",
    "# Use the function watershed from the module skimage.morphology.\n",
    "# Use the labeled nuclei seeds and the smoothed nuclei image as input.\n"
   ]
  },
  {
   "cell_type": "code",
   "execution_count": null,
   "metadata": {},
   "outputs": [],
   "source": [
    "# Show the result as transparent overlay over the smoothed input image\n"
   ]
  },
  {
   "cell_type": "markdown",
   "metadata": {},
   "source": [
    "# segmenting cells using Voronoi"
   ]
  },
  {
   "cell_type": "markdown",
   "metadata": {},
   "source": [
    "Find boundaries between adjacent regions in an image, where seeds have been already identified in the individual regions to be segmented. The method finds the Voronoi region of each seed on a manifold with a metric controlled by local image properties. The method is motivated by the problem of finding the borders of cells in microscopy images, given a labelling of the nuclei in the images.\n",
    "\n",
    "See \n",
    "Jones T.R., Carpenter A., Golland P. (2005) Voronoi-Based Segmentation of Cells on Image Manifolds. In: Liu Y., Jiang T., Zhang C. (eds) Computer Vision for Biomedical Image Applications. CVBIA 2005. Lecture Notes in Computer Science, vol 3765. Springer, Berlin, Heidelberg"
   ]
  },
  {
   "cell_type": "markdown",
   "metadata": {},
   "source": [
    "## Exercises 5 - A modified voronoi algorithm"
   ]
  },
  {
   "cell_type": "code",
   "execution_count": null,
   "metadata": {},
   "outputs": [],
   "source": [
    "# The label function from skimage.measure module finds all connected sets of pixels other than the background, \n",
    "# and relabels these sets with a unique increasing integer.\n"
   ]
  },
  {
   "cell_type": "code",
   "execution_count": null,
   "metadata": {},
   "outputs": [],
   "source": [
    "#  We apply a sobel filter from skimage.filters to detect edges from cell body and serve as input \n",
    "# for the voronoi algorithm. \n",
    "\n",
    "\n",
    "# Visualize the output\n"
   ]
  },
  {
   "cell_type": "code",
   "execution_count": null,
   "metadata": {},
   "outputs": [],
   "source": [
    "# This algo is implemented in the centrosome package, an open source image processing library.\n",
    "\n",
    "\n",
    "# Visualize the output. Focus on boundaries between labeled \n",
    "# regions highlighted thanks to mark_boundaries from skimage.segmentation and draw contour lines \n",
    "# for nuclei thanks to contour from matplotlib.pyplot.\n"
   ]
  },
  {
   "cell_type": "markdown",
   "metadata": {},
   "source": [
    "## Exercises 6 - Quantification of cell features"
   ]
  },
  {
   "cell_type": "markdown",
   "metadata": {},
   "source": [
    "The ultimate goal of image segmentation is of course the extraction of quantitative measurements, in this case on a single-cell level. Measures of interest can be based on intensity (in different channels) or on the size and shape of the cells.\n",
    "\n",
    "we will extract the following:\n",
    "\n",
    "    Cell ID (so all other measurements can be traced back to the cell that was measured)\n",
    "    Mean intensity of each cell, for each channel\n",
    "    The cell area i.e. the number of pixels that make up the cell"
   ]
  },
  {
   "cell_type": "code",
   "execution_count": null,
   "metadata": {},
   "outputs": [],
   "source": [
    "# Create a dictionary that contains a key-value pair for each measurement.\n",
    "# The keys should be strings describing the type of measurement (e.g. 'cell_tubulin_mean') \n",
    "# and the values should be empty lists. These empty lists will be filled with the results of \n",
    "# the measurements and the dictionary will make it easy to work with this data.\n",
    "\n",
    "# Record the measurements for each cell\n",
    "# Iterate over the segmented cells (np.unique).\n",
    "# Inside the loop, create a mask for the current cell and use it to extract the measurements listed above. \n",
    "# Add them to the appropriate list in the dictionary using the list.append method.\n",
    "# Hint: Remember that you can get all the values within a masked area by indexing the image \n",
    "#       with the mask. For example, np.mean(image[cell_mask]) will return the mean of all the \n",
    "#       intensity values of 'image' that are masked by 'cell_mask'.\n",
    "\n",
    "# Iterate over cell IDs\n",
    "\n",
    "    # Mask the current cell\n",
    "    \n",
    "    \n",
    "    # Get the measurements\n",
    "    # Note: the .item() method ensures that the resulting number is converted from a numpy number object\n",
    "    #       (e.g. type np.float) to a native python number object (e.g. type float). For most purposes,\n",
    "    #       this is irrelevant, but for saving data in a python object as we do later on, it is useful\n",
    "    #       to use native python objects only.\n",
    "    \n",
    "    \n",
    "# Print the results and check that they make sense\n"
   ]
  },
  {
   "cell_type": "markdown",
   "metadata": {},
   "source": [
    "# Writing output files"
   ]
  },
  {
   "cell_type": "markdown",
   "metadata": {},
   "source": [
    "The final step of the pipeline shows how to write output of the pipeline to files.\n",
    "\n",
    "Data can be saved to files in a human-readable format such as text files (e.g. to import into Excel), in a format readable for other programs such as tif-images (e.g. to view in Fiji)."
   ]
  },
  {
   "cell_type": "markdown",
   "metadata": {},
   "source": [
    "## Exercises 7 - write a tab-separated file"
   ]
  },
  {
   "cell_type": "code",
   "execution_count": null,
   "metadata": {},
   "outputs": [],
   "source": [
    "#  Write a tab-separated text file of the results dict\n",
    "# The most generic way of saving numerical results is a simple text file. It can be imported into \n",
    "# pretty much any other program.\n",
    "\n",
    "# To write normal text files, open an empty file object in write mode ('w') using the 'with'-statement.\n",
    "\n",
    "\n",
    "    # Use the file_object.write(string) method to write strings to the file. First write the header of the\n",
    "    # date (the result dict keys), separated by tabs ('\\t'). It makes sense to first generate a complete\n",
    "    # string with all the headers and then write this string to the file. Note that you will need to \n",
    "    # explicitly write 'newline' characters ('\\n') at the end of the line to switch to the next line.\n",
    "    \n",
    "\n",
    "    # After writing the headers, iterate over all the cells saved and write the data to the file by\n",
    "    # creating strings similar to the header string.\n",
    "    \n",
    "        \n",
    "# After writing the data, have a look at the output file in a text editor or in a spreadsheet\n",
    "# program like Excel."
   ]
  },
  {
   "cell_type": "markdown",
   "metadata": {},
   "source": [
    "## Exercises 8 - write a tab-separated file to omero as attachment"
   ]
  },
  {
   "cell_type": "code",
   "execution_count": null,
   "metadata": {},
   "outputs": [],
   "source": [
    "# Import BlitzGateway from omero.gateway to access API\n",
    "import sys\n",
    "sys.path.append('../../OMERO.server/lib/python')\n",
    "from omero.gateway import BlitzGateway\n",
    "\n",
    "# The getpass() function prints a prompt then reads input from the user until they press return.\n",
    "# The input is passed back as a string to the caller. For that import getpass from getpass.\n",
    "from getpass import getpass\n",
    "\n",
    "# Use raw_input function to print a prompt for username, host and port.\n",
    "# Warning: For port parameter cast the string to integer.\n",
    "\n",
    "# Fill the parameters of BlitzGateway function: Username, Password, Host and Port\n",
    "# Use connect function to connect you to the omero server.\n",
    "conn = BlitzGateway(\n",
    "    raw_input(\"Username: \"), getpass(\"OMERO Password: \"),\n",
    "    host=raw_input(\"Host: \"), port=int(raw_input(\"Port: \")))\n",
    "conn.connect()\n",
    "\n",
    "# Fill the .. to run this part of the code\n",
    "dataset_id = ..\n",
    "dataset = conn.getObject(\"Dataset\", ..)\n",
    "# Specify a local file e.g. could be result of some analysis\n",
    "file_to_upload = ..   # This file should already exist\n",
    "namespace = \"result_output\"\n",
    "print \"\\nCreating an OriginalFile and FileAnnotation\"\n",
    "file_ann = conn.createFileAnnfromLocalFile(\n",
    "    file_to_upload, mimetype=\"text/plain\", ns=namespace, desc=None)\n",
    "print \"Attaching FileAnnotation to Dataset: \", \"File ID:\", file_ann.getId(), \\\n",
    "    \",\", file_ann.getFile().getName(), \"Size:\", file_ann.getFile().getSize()\n",
    "dataset.linkAnnotation(file_ann)     # link it to dataset."
   ]
  }
 ],
 "metadata": {
  "kernelspec": {
   "display_name": "OMERO Python 2",
   "language": "python",
   "name": "python2"
  },
  "language_info": {
   "codemirror_mode": {
    "name": "ipython",
    "version": 2
   },
   "file_extension": ".py",
   "mimetype": "text/x-python",
   "name": "python",
   "nbconvert_exporter": "python",
   "pygments_lexer": "ipython2",
   "version": "2.7.3"
  }
 },
 "nbformat": 4,
 "nbformat_minor": 2
}
