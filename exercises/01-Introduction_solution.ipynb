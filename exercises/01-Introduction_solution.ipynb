{
 "cells": [
  {
   "cell_type": "markdown",
   "metadata": {
    "slideshow": {
     "slide_type": "slide"
    }
   },
   "source": [
    "# Introduction\n",
    "\n",
    "In this workshop you will learn to use jupyter notebook<cite data-cite=\"5920019/QXB8RD3Y\"></cite> to analyze bio-images that are stored in a central OMERO<cite data-cite=\"5920019/TFBN4RBU\"></cite> database. \n",
    "\n",
    "Jupyter notebook allows to write online documents that contain text, equations, graphics, images and executable code in different programming languages including python and R. They provide therefore a good medium for exploring and teaching image and data analysis. Beyond teaching and exploration they could be used to make the image and data analysis parts of scientific publications reproducible. In this context the images can be stored in an OMERO database and accessed from the jupyter notebook -- independent from where it runs, locally on your machine, on a server at your institution or in a hosted environment. \n"
   ]
  },
  {
   "cell_type": "markdown",
   "metadata": {},
   "source": [
    "## Text cells\n",
    "\n",
    "This is a text cell. In text cells you can use markdown to format your text, latex to write equations and you can display images via an url or from a local folder on the server."
   ]
  },
  {
   "cell_type": "markdown",
   "metadata": {},
   "source": [
    "***************************\n",
    "### Markdown\n",
    "\n",
    "Here are some examples of what you can do with markdown.\n",
    "\n",
    "Headings:\n",
    "\n",
    "You can create a heading of level n by using n-times the \\#-character, for example \n",
    "\n",
    "\\#\\#\\#\\# Heading Level 4\n",
    "\n",
    "#### Heading Level 4 \n",
    "\n",
    "##### Heading Level 5\n",
    "\n",
    "###### Heading Level 6\n",
    "\n",
    "\n",
    "Lists:\n",
    "\n",
    "unordered:\n",
    "\n",
    "* an item\n",
    "* another item\n",
    "\n",
    "\n",
    "ordered:\n",
    "\n",
    "1. the first item\n",
    "1. the second item\n",
    "\n",
    "\n",
    "emphasis: **bold**, _italic_\n",
    "\n",
    "\n",
    "code (not executable): `print('Hello World!')`\n",
    "\n",
    "\n",
    "Links: See [Daring Fireball](https://daringfireball.net/projects/markdown/) for more details about markdown.\n",
    "\n",
    "\n",
    "If you need more than markdown provides, you can directly use htlm.\n",
    "\n",
    " <table border = \"1\">\n",
    "         <tr>\n",
    "            <td>Row 1, Column 1</td>\n",
    "            <td>Row 1, Column 2</td>\n",
    "         </tr>         \n",
    "         <tr>\n",
    "            <td>Row 2, Column 1</td>\n",
    "            <td>Row 2, Column 2</td>\n",
    "         </tr>\n",
    " </table>\n",
    "\n",
    " ******************************\n",
    " "
   ]
  },
  {
   "cell_type": "markdown",
   "metadata": {},
   "source": [
    "### Pictures\n",
    "\n",
    "![Logo MRI](../pictures/logo.png) \n",
    "![mifobio](http://argolight.com/wp-content/uploads/2016/09/MiFoBio16.jpg)<div class=\"cite2c-biblio\"></div>"
   ]
  },
  {
   "cell_type": "markdown",
   "metadata": {},
   "source": [
    "### Equations\n",
    "\n",
    "Equations can be used inline, so you can have short equations like $E = mc^2$ within the text. Longer equations should be separated from the text:\n",
    "\n",
    "$$f\\left( x \\right) = \\sum\\limits_{n = 0}^\\infty  {{A_n}\\cos \\left( {\\frac{{n\\,\\pi x}}{L}} \\right)}  + \\sum\\limits_{n = 1}^\\infty  {{B_n}\\sin \\left( {\\frac{{n\\,\\pi x}}{L}} \\right)}$$"
   ]
  },
  {
   "cell_type": "markdown",
   "metadata": {},
   "source": [
    "## Exercise 1 - Hello World!\n",
    "\n",
    "To get started with python programming in jupyter notebook, write the famous hello world! program in the cell below and run it. It should output the text \"Hello World!\". The python command needed for this is `print`."
   ]
  },
  {
   "cell_type": "code",
   "execution_count": 1,
   "metadata": {},
   "outputs": [
    {
     "name": "stdout",
     "output_type": "stream",
     "text": [
      "Hello World!\n"
     ]
    }
   ],
   "source": [
    "# Enter your code below !\n",
    "print(\"Hello World!\")"
   ]
  },
  {
   "cell_type": "markdown",
   "metadata": {},
   "source": [
    "## Exercise 2 - 99 bottles\n",
    "\n",
    "Complete the program in the cell below. The program will output the lyrics of the son \"99 Bottles of Beer\". \n"
   ]
  },
  {
   "cell_type": "code",
   "execution_count": 4,
   "metadata": {},
   "outputs": [
    {
     "name": "stdout",
     "output_type": "stream",
     "text": [
      "99 bottles of beer on the wall, 99 bottles of beer\n",
      "Take one down and pass it around, 98 bottles of beer on the wall\n",
      "98 bottles of beer on the wall, 98 bottles of beer\n",
      "Take one down and pass it around, 97 bottles of beer on the wall\n",
      "97 bottles of beer on the wall, 97 bottles of beer\n",
      "Take one down and pass it around, 96 bottles of beer on the wall\n",
      "96 bottles of beer on the wall, 96 bottles of beer\n",
      "Take one down and pass it around, 95 bottles of beer on the wall\n",
      "95 bottles of beer on the wall, 95 bottles of beer\n",
      "Take one down and pass it around, 94 bottles of beer on the wall\n",
      "94 bottles of beer on the wall, 94 bottles of beer\n",
      "Take one down and pass it around, 93 bottles of beer on the wall\n",
      "93 bottles of beer on the wall, 93 bottles of beer\n",
      "Take one down and pass it around, 92 bottles of beer on the wall\n",
      "92 bottles of beer on the wall, 92 bottles of beer\n",
      "Take one down and pass it around, 91 bottles of beer on the wall\n",
      "91 bottles of beer on the wall, 91 bottles of beer\n",
      "Take one down and pass it around, 90 bottles of beer on the wall\n",
      "90 bottles of beer on the wall, 90 bottles of beer\n",
      "Take one down and pass it around, 89 bottles of beer on the wall\n",
      "89 bottles of beer on the wall, 89 bottles of beer\n",
      "Take one down and pass it around, 88 bottles of beer on the wall\n",
      "88 bottles of beer on the wall, 88 bottles of beer\n",
      "Take one down and pass it around, 87 bottles of beer on the wall\n",
      "87 bottles of beer on the wall, 87 bottles of beer\n",
      "Take one down and pass it around, 86 bottles of beer on the wall\n",
      "86 bottles of beer on the wall, 86 bottles of beer\n",
      "Take one down and pass it around, 85 bottles of beer on the wall\n",
      "85 bottles of beer on the wall, 85 bottles of beer\n",
      "Take one down and pass it around, 84 bottles of beer on the wall\n",
      "84 bottles of beer on the wall, 84 bottles of beer\n",
      "Take one down and pass it around, 83 bottles of beer on the wall\n",
      "83 bottles of beer on the wall, 83 bottles of beer\n",
      "Take one down and pass it around, 82 bottles of beer on the wall\n",
      "82 bottles of beer on the wall, 82 bottles of beer\n",
      "Take one down and pass it around, 81 bottles of beer on the wall\n",
      "81 bottles of beer on the wall, 81 bottles of beer\n",
      "Take one down and pass it around, 80 bottles of beer on the wall\n",
      "80 bottles of beer on the wall, 80 bottles of beer\n",
      "Take one down and pass it around, 79 bottles of beer on the wall\n",
      "79 bottles of beer on the wall, 79 bottles of beer\n",
      "Take one down and pass it around, 78 bottles of beer on the wall\n",
      "78 bottles of beer on the wall, 78 bottles of beer\n",
      "Take one down and pass it around, 77 bottles of beer on the wall\n",
      "77 bottles of beer on the wall, 77 bottles of beer\n",
      "Take one down and pass it around, 76 bottles of beer on the wall\n",
      "76 bottles of beer on the wall, 76 bottles of beer\n",
      "Take one down and pass it around, 75 bottles of beer on the wall\n",
      "75 bottles of beer on the wall, 75 bottles of beer\n",
      "Take one down and pass it around, 74 bottles of beer on the wall\n",
      "74 bottles of beer on the wall, 74 bottles of beer\n",
      "Take one down and pass it around, 73 bottles of beer on the wall\n",
      "73 bottles of beer on the wall, 73 bottles of beer\n",
      "Take one down and pass it around, 72 bottles of beer on the wall\n",
      "72 bottles of beer on the wall, 72 bottles of beer\n",
      "Take one down and pass it around, 71 bottles of beer on the wall\n",
      "71 bottles of beer on the wall, 71 bottles of beer\n",
      "Take one down and pass it around, 70 bottles of beer on the wall\n",
      "70 bottles of beer on the wall, 70 bottles of beer\n",
      "Take one down and pass it around, 69 bottles of beer on the wall\n",
      "69 bottles of beer on the wall, 69 bottles of beer\n",
      "Take one down and pass it around, 68 bottles of beer on the wall\n",
      "68 bottles of beer on the wall, 68 bottles of beer\n",
      "Take one down and pass it around, 67 bottles of beer on the wall\n",
      "67 bottles of beer on the wall, 67 bottles of beer\n",
      "Take one down and pass it around, 66 bottles of beer on the wall\n",
      "66 bottles of beer on the wall, 66 bottles of beer\n",
      "Take one down and pass it around, 65 bottles of beer on the wall\n",
      "65 bottles of beer on the wall, 65 bottles of beer\n",
      "Take one down and pass it around, 64 bottles of beer on the wall\n",
      "64 bottles of beer on the wall, 64 bottles of beer\n",
      "Take one down and pass it around, 63 bottles of beer on the wall\n",
      "63 bottles of beer on the wall, 63 bottles of beer\n",
      "Take one down and pass it around, 62 bottles of beer on the wall\n",
      "62 bottles of beer on the wall, 62 bottles of beer\n",
      "Take one down and pass it around, 61 bottles of beer on the wall\n",
      "61 bottles of beer on the wall, 61 bottles of beer\n",
      "Take one down and pass it around, 60 bottles of beer on the wall\n",
      "60 bottles of beer on the wall, 60 bottles of beer\n",
      "Take one down and pass it around, 59 bottles of beer on the wall\n",
      "59 bottles of beer on the wall, 59 bottles of beer\n",
      "Take one down and pass it around, 58 bottles of beer on the wall\n",
      "58 bottles of beer on the wall, 58 bottles of beer\n",
      "Take one down and pass it around, 57 bottles of beer on the wall\n",
      "57 bottles of beer on the wall, 57 bottles of beer\n",
      "Take one down and pass it around, 56 bottles of beer on the wall\n",
      "56 bottles of beer on the wall, 56 bottles of beer\n",
      "Take one down and pass it around, 55 bottles of beer on the wall\n",
      "55 bottles of beer on the wall, 55 bottles of beer\n",
      "Take one down and pass it around, 54 bottles of beer on the wall\n",
      "54 bottles of beer on the wall, 54 bottles of beer\n",
      "Take one down and pass it around, 53 bottles of beer on the wall\n",
      "53 bottles of beer on the wall, 53 bottles of beer\n",
      "Take one down and pass it around, 52 bottles of beer on the wall\n",
      "52 bottles of beer on the wall, 52 bottles of beer\n",
      "Take one down and pass it around, 51 bottles of beer on the wall\n",
      "51 bottles of beer on the wall, 51 bottles of beer\n",
      "Take one down and pass it around, 50 bottles of beer on the wall\n",
      "50 bottles of beer on the wall, 50 bottles of beer\n",
      "Take one down and pass it around, 49 bottles of beer on the wall\n",
      "49 bottles of beer on the wall, 49 bottles of beer\n",
      "Take one down and pass it around, 48 bottles of beer on the wall\n",
      "48 bottles of beer on the wall, 48 bottles of beer\n",
      "Take one down and pass it around, 47 bottles of beer on the wall\n",
      "47 bottles of beer on the wall, 47 bottles of beer\n",
      "Take one down and pass it around, 46 bottles of beer on the wall\n",
      "46 bottles of beer on the wall, 46 bottles of beer\n",
      "Take one down and pass it around, 45 bottles of beer on the wall\n",
      "45 bottles of beer on the wall, 45 bottles of beer\n",
      "Take one down and pass it around, 44 bottles of beer on the wall\n",
      "44 bottles of beer on the wall, 44 bottles of beer\n",
      "Take one down and pass it around, 43 bottles of beer on the wall\n",
      "43 bottles of beer on the wall, 43 bottles of beer\n",
      "Take one down and pass it around, 42 bottles of beer on the wall\n",
      "42 bottles of beer on the wall, 42 bottles of beer\n",
      "Take one down and pass it around, 41 bottles of beer on the wall\n",
      "41 bottles of beer on the wall, 41 bottles of beer\n",
      "Take one down and pass it around, 40 bottles of beer on the wall\n",
      "40 bottles of beer on the wall, 40 bottles of beer\n",
      "Take one down and pass it around, 39 bottles of beer on the wall\n",
      "39 bottles of beer on the wall, 39 bottles of beer\n",
      "Take one down and pass it around, 38 bottles of beer on the wall\n",
      "38 bottles of beer on the wall, 38 bottles of beer\n",
      "Take one down and pass it around, 37 bottles of beer on the wall\n",
      "37 bottles of beer on the wall, 37 bottles of beer\n",
      "Take one down and pass it around, 36 bottles of beer on the wall\n",
      "36 bottles of beer on the wall, 36 bottles of beer\n",
      "Take one down and pass it around, 35 bottles of beer on the wall\n",
      "35 bottles of beer on the wall, 35 bottles of beer\n",
      "Take one down and pass it around, 34 bottles of beer on the wall\n",
      "34 bottles of beer on the wall, 34 bottles of beer\n",
      "Take one down and pass it around, 33 bottles of beer on the wall\n",
      "33 bottles of beer on the wall, 33 bottles of beer\n",
      "Take one down and pass it around, 32 bottles of beer on the wall\n",
      "32 bottles of beer on the wall, 32 bottles of beer\n",
      "Take one down and pass it around, 31 bottles of beer on the wall\n",
      "31 bottles of beer on the wall, 31 bottles of beer\n",
      "Take one down and pass it around, 30 bottles of beer on the wall\n",
      "30 bottles of beer on the wall, 30 bottles of beer\n",
      "Take one down and pass it around, 29 bottles of beer on the wall\n",
      "29 bottles of beer on the wall, 29 bottles of beer\n",
      "Take one down and pass it around, 28 bottles of beer on the wall\n",
      "28 bottles of beer on the wall, 28 bottles of beer\n",
      "Take one down and pass it around, 27 bottles of beer on the wall\n",
      "27 bottles of beer on the wall, 27 bottles of beer\n",
      "Take one down and pass it around, 26 bottles of beer on the wall\n",
      "26 bottles of beer on the wall, 26 bottles of beer\n",
      "Take one down and pass it around, 25 bottles of beer on the wall\n",
      "25 bottles of beer on the wall, 25 bottles of beer\n",
      "Take one down and pass it around, 24 bottles of beer on the wall\n",
      "24 bottles of beer on the wall, 24 bottles of beer\n",
      "Take one down and pass it around, 23 bottles of beer on the wall\n",
      "23 bottles of beer on the wall, 23 bottles of beer\n",
      "Take one down and pass it around, 22 bottles of beer on the wall\n",
      "22 bottles of beer on the wall, 22 bottles of beer\n",
      "Take one down and pass it around, 21 bottles of beer on the wall\n",
      "21 bottles of beer on the wall, 21 bottles of beer\n",
      "Take one down and pass it around, 20 bottles of beer on the wall\n",
      "20 bottles of beer on the wall, 20 bottles of beer\n",
      "Take one down and pass it around, 19 bottles of beer on the wall\n",
      "19 bottles of beer on the wall, 19 bottles of beer\n",
      "Take one down and pass it around, 18 bottles of beer on the wall\n",
      "18 bottles of beer on the wall, 18 bottles of beer\n",
      "Take one down and pass it around, 17 bottles of beer on the wall\n",
      "17 bottles of beer on the wall, 17 bottles of beer\n",
      "Take one down and pass it around, 16 bottles of beer on the wall\n",
      "16 bottles of beer on the wall, 16 bottles of beer\n",
      "Take one down and pass it around, 15 bottles of beer on the wall\n",
      "15 bottles of beer on the wall, 15 bottles of beer\n",
      "Take one down and pass it around, 14 bottles of beer on the wall\n",
      "14 bottles of beer on the wall, 14 bottles of beer\n",
      "Take one down and pass it around, 13 bottles of beer on the wall\n",
      "13 bottles of beer on the wall, 13 bottles of beer\n",
      "Take one down and pass it around, 12 bottles of beer on the wall\n",
      "12 bottles of beer on the wall, 12 bottles of beer\n",
      "Take one down and pass it around, 11 bottles of beer on the wall\n",
      "11 bottles of beer on the wall, 11 bottles of beer\n",
      "Take one down and pass it around, 10 bottles of beer on the wall\n",
      "10 bottles of beer on the wall, 10 bottles of beer\n",
      "Take one down and pass it around, 9 bottles of beer on the wall\n",
      "9 bottles of beer on the wall, 9 bottles of beer\n",
      "Take one down and pass it around, 8 bottles of beer on the wall\n",
      "8 bottles of beer on the wall, 8 bottles of beer\n",
      "Take one down and pass it around, 7 bottles of beer on the wall\n",
      "7 bottles of beer on the wall, 7 bottles of beer\n",
      "Take one down and pass it around, 6 bottles of beer on the wall\n",
      "6 bottles of beer on the wall, 6 bottles of beer\n",
      "Take one down and pass it around, 5 bottles of beer on the wall\n",
      "5 bottles of beer on the wall, 5 bottles of beer\n",
      "Take one down and pass it around, 4 bottles of beer on the wall\n",
      "4 bottles of beer on the wall, 4 bottles of beer\n",
      "Take one down and pass it around, 3 bottles of beer on the wall\n",
      "3 bottles of beer on the wall, 3 bottles of beer\n",
      "Take one down and pass it around, 2 bottles of beer on the wall\n"
     ]
    }
   ],
   "source": [
    "# Replace the occurences of .. in the code below to write a program that outputs the lyrics of the \n",
    "# song 99 bottles of beer.\n",
    "\n",
    "for i in range(1,98):\n",
    "    print (str(100-i) + \" bottles of beer on the wall, \" + str(100-i) +\" bottles of beer\")\n",
    "    print (\"Take one down and pass it around, \" + str(100-i-1) +\" bottles of beer on the wall\")"
   ]
  },
  {
   "cell_type": "markdown",
   "metadata": {},
   "source": [
    "<div class=\"cite2c-biblio\"></div>"
   ]
  }
 ],
 "metadata": {
  "celltoolbar": "Edit Metadata",
  "cite2c": {
   "citations": {
    "5920019/QXB8RD3Y": {
     "DOI": "10.3233/978-1-61499-649-1-87",
     "URL": "http://www.medra.org/servlet/aliasResolver?alias=iospressISBN&isbn=978-1-61499-648-4&spage=87&doi=10.3233/978-1-61499-649-1-87",
     "abstract": "It is increasingly necessary for researchers in all fields to write computer code, and in order to reproduce research results, it is important that this code is published. We present Jupyter notebooks, a document format for publishing code, results and explanations in a form that is both readable and executable. We discuss various tools and use cases for notebook documents.",
     "accessed": {
      "day": 6,
      "month": 7,
      "year": 2018
     },
     "author": [
      {
       "family": "Thomas",
       "given": "Kluyver"
      },
      {
       "family": "Benjamin",
       "given": "Ragan-Kelley"
      },
      {
       "family": "Fernando",
       "given": "P&eacute;rez"
      },
      {
       "family": "Brian",
       "given": "Granger"
      },
      {
       "family": "Matthias",
       "given": "Bussonnier"
      },
      {
       "family": "Jonathan",
       "given": "Frederic"
      },
      {
       "family": "Kyle",
       "given": "Kelley"
      },
      {
       "family": "Jessica",
       "given": "Hamrick"
      },
      {
       "family": "Jason",
       "given": "Grout"
      },
      {
       "family": "Sylvain",
       "given": "Corlay"
      },
      {
       "family": "Paul",
       "given": "Ivanov"
      },
      {
       "family": "Dami&aacute;n",
       "given": "Avila"
      },
      {
       "family": "Safia",
       "given": "Abdalla"
      },
      {
       "family": "Carol",
       "given": "Willing"
      },
      {
       "family": "Team",
       "given": "Jupyter Development"
      }
     ],
     "container-title": "Stand Alone",
     "id": "5920019/QXB8RD3Y",
     "issued": {
      "year": 2016
     },
     "page": "87–90",
     "page-first": "87",
     "title": "Jupyter Notebooks &ndash; a publishing format for reproducible computational workflows",
     "type": "article-journal"
    },
    "5920019/TFBN4RBU": {
     "DOI": "10.1007/s00335-015-9587-6",
     "URL": "http://link.springer.com/10.1007/s00335-015-9587-6",
     "accessed": {
      "day": 8,
      "month": 7,
      "year": 2018
     },
     "author": [
      {
       "family": "Burel",
       "given": "Jean-Marie"
      },
      {
       "family": "Besson",
       "given": "Sébastien"
      },
      {
       "family": "Blackburn",
       "given": "Colin"
      },
      {
       "family": "Carroll",
       "given": "Mark"
      },
      {
       "family": "Ferguson",
       "given": "Richard K."
      },
      {
       "family": "Flynn",
       "given": "Helen"
      },
      {
       "family": "Gillen",
       "given": "Kenneth"
      },
      {
       "family": "Leigh",
       "given": "Roger"
      },
      {
       "family": "Li",
       "given": "Simon"
      },
      {
       "family": "Lindner",
       "given": "Dominik"
      },
      {
       "family": "Linkert",
       "given": "Melissa"
      },
      {
       "family": "Moore",
       "given": "William J."
      },
      {
       "family": "Ramalingam",
       "given": "Balaji"
      },
      {
       "family": "Rozbicki",
       "given": "Emil"
      },
      {
       "family": "Tarkowska",
       "given": "Aleksandra"
      },
      {
       "family": "Walczysko",
       "given": "Petr"
      },
      {
       "family": "Allan",
       "given": "Chris"
      },
      {
       "family": "Moore",
       "given": "Josh"
      },
      {
       "family": "Swedlow",
       "given": "Jason R."
      }
     ],
     "container-title": "Mammalian Genome",
     "id": "5920019/TFBN4RBU",
     "issue": "9-10",
     "issued": {
      "year": 2015
     },
     "language": "en",
     "page": "441-447",
     "page-first": "441",
     "title": "Publishing and sharing multi-dimensional image data with OMERO",
     "type": "article-journal",
     "volume": "26"
    }
   }
  },
  "kernelspec": {
   "display_name": "Python 2",
   "language": "python",
   "name": "python2"
  },
  "language_info": {
   "codemirror_mode": {
    "name": "ipython",
    "version": 3
   },
   "file_extension": ".py",
   "mimetype": "text/x-python",
   "name": "python",
   "nbconvert_exporter": "python",
   "pygments_lexer": "ipython3",
   "version": "3.6.4"
  }
 },
 "nbformat": 4,
 "nbformat_minor": 2
}
