{
 "cells": [
  {
   "cell_type": "markdown",
   "metadata": {},
   "source": [
    "# Applying a filter to the nuclei image"
   ]
  },
  {
   "cell_type": "code",
   "execution_count": null,
   "metadata": {},
   "outputs": [],
   "source": [
    "from __future__ import division"
   ]
  },
  {
   "cell_type": "markdown",
   "metadata": {},
   "source": [
    "The goal of image preprocessing is to prepare or optimize the images to:   \n",
    "  \n",
    "  + remove noises\n",
    "  + sharpen contrast \n",
    "  + high contour \n",
    "  + detect edges   \n",
    "\n",
    "The specific preprocessing steps used in a pipeline depend on the type of image, the microscopy technique used, the image quality, and the desired downstream analysis.\n",
    "In this pipeline we will be using a **median filter**.\n",
    "\n",
    "Median filtering is useful as a **smoothing technique** to reduce noice. The median filter considers each pixel in the image in turn and looks at its nearby neighbors to decide whether or not it is representative of its surroundings. Instead of simply replacing the pixel value with the mean of neighboring pixel values, it replaces it with the median of those values. The median is calculated by sorting all the pixel values from the **surrounding neighborhood** into numerical order and returning the pixel value in the middle."
   ]
  },
  {
   "cell_type": "markdown",
   "metadata": {},
   "source": [
    "## Exercises  1 -  Connect  to the omero server"
   ]
  },
  {
   "cell_type": "code",
   "execution_count": null,
   "metadata": {},
   "outputs": [],
   "source": [
    "# Import BlitzGateway from omero.gateway to access API\n",
    "\n",
    "# The getpass() function prints a prompt then reads input from the user until they press return.\n",
    "# The input is passed back as a string to the caller. For that import getpass from getpass.\n",
    "\n",
    "\n",
    "# Use raw_input function to print a prompt for username, host and port.\n",
    "# Warning: For port parameter cast the string to integer.\n",
    "\n",
    "# Fill the parameters of BlitzGateway function: Username, Password, Host and Port\n",
    "# Use connect function to connect you to the omero server.\n"
   ]
  },
  {
   "cell_type": "markdown",
   "metadata": {},
   "source": [
    "## Exercises  2 -  Get Images"
   ]
  },
  {
   "cell_type": "code",
   "execution_count": null,
   "metadata": {},
   "outputs": [],
   "source": [
    "# Create a dictionary that contains a key-value pairing for each image.\n",
    "# The keys should be a strings describing the name of the image \n",
    "# and the values should be empty lists. These empty lists will be filled with the array of image created.\n",
    "\n",
    "\n",
    "\n",
    "# Create a function to return images from dataset PK-10B and Well-C003 dataset as example.\n",
    "# Fill the ..\n",
    "# This function take two parameters, a dataset_id and the connection variable\n",
    "# To get an image array you can use getPrimaryPixels() to get all pixels from an image\n",
    "# For add new element in a list you should use append\n",
    "\n",
    "import matplotlib.pyplot as plt\n",
    "\n",
    "def getImagesFrom(.., ..):\n",
    "    dataset = conn.getObject(\"Dataset\", dataset_id)\n",
    "    print \"\\nImages in Dataset:\", dataset.getName()\n",
    "    for image in dataset.listChildren():\n",
    "        print image.getName(), image.getDescription()\n",
    "        pixels = image.getPrimaryPixels()\n",
    "        image_plane = pixels.getPlane(0, 0, 0)\n",
    "        if image.getName() == \"FITC.jpeg\":\n",
    "            img[\"FITC\"].append(image_plane)\n",
    "        elif image.getName() == \"Hoechst.jpeg\":\n",
    "            img[\"Hoechst\"].append(image_plane)\n",
    "        else:\n",
    "            img[\"Tritc\"].append(image_plane)\n",
    "    return(img)\n",
    "        \n",
    "im = getImagesFrom(8595, conn)\n",
    "\n",
    "# Visualize the list of images obtained using plt.imshow then plt.show\n"
   ]
  },
  {
   "cell_type": "markdown",
   "metadata": {},
   "source": [
    "## Exercises 3 - Normalize images"
   ]
  },
  {
   "cell_type": "code",
   "execution_count": null,
   "metadata": {},
   "outputs": [],
   "source": [
    "# Normalize images\n",
    "# In order to compare two images we can use the numpy.iinfo function. This function will show us the range of a \n",
    "# data-type, which we can then use to normalize the intensity values in the image.\n"
   ]
  },
  {
   "cell_type": "markdown",
   "metadata": {},
   "source": [
    "## Exercises 4 - Apply median filter on images"
   ]
  },
  {
   "cell_type": "code",
   "execution_count": null,
   "metadata": {},
   "outputs": [],
   "source": [
    "# Create a variable for the size of the smoothing filter. \n",
    "# Either the sizes of a rectangular kernel or the footprint of the kernel must be provided. \n",
    "# The size parameter, if provided, must be a sequence of sizes or a single number in which case the size of \n",
    "# the filter is assumed to be equal along all axis. \n",
    "# The footprint if provided, must be an array that defines the shape of the kernel by its non-zero elements.\n"
   ]
  },
  {
   "cell_type": "code",
   "execution_count": null,
   "metadata": {},
   "outputs": [],
   "source": [
    "\n",
    "# Perform the smoothing on the image\n",
    "# To do so, use the median filter function 'scipy.ndimage.filters.median_filter' from the \n",
    "# image processing package ndimage, which was imported at the start of the tutorial. \n",
    "# Check out the documentation of scipy to see how to use this function. \n",
    "# Allocate the output to a new variable.\n"
   ]
  },
  {
   "cell_type": "code",
   "execution_count": null,
   "metadata": {},
   "outputs": [],
   "source": [
    "# Visualize the result using plt.imshow and plt.show\n"
   ]
  },
  {
   "cell_type": "markdown",
   "metadata": {},
   "source": [
    "## Exercises 5 - Save image on local"
   ]
  },
  {
   "cell_type": "code",
   "execution_count": null,
   "metadata": {},
   "outputs": [],
   "source": [
    "##import imsave from skimage.io\n"
   ]
  },
  {
   "cell_type": "markdown",
   "metadata": {},
   "source": [
    "# Global Thresholding"
   ]
  },
  {
   "cell_type": "markdown",
   "metadata": {},
   "source": [
    "Otsu's method is used to perform **clustering based image thresholding**. Assuming a **bi-modal intensity distribution**, pixels are separate into foreground and background. The optimal threshold value to separate the two classes is determined by **minimizing the combined intra-class variance or by maximizing the combined inter-class variance**."
   ]
  },
  {
   "cell_type": "markdown",
   "metadata": {},
   "source": [
    "## Exercises 6 - Otsu's thresholding method"
   ]
  },
  {
   "cell_type": "code",
   "execution_count": null,
   "metadata": {},
   "outputs": [],
   "source": [
    "# Threshold the median-smoothed original image using the otsu method to obtain the nuclei mask. You find \n",
    "# an implementation of the Otsu-threshold in the module skimage.filters under the name threshold_otsu.\n",
    "# In the original image, set pixels with values higher than the threshold to 1 and pixels with values lower or equal to \n",
    "# the threshold to 0. You can use a \"relational operator\" to do this, since numpy arrays will automatically perform \n",
    "# element-wise comparisons when compared to other arrays of the same shape. \n",
    "\n",
    "# First create a an array of the same size as the input image containing zeros everywhere, then use the relational operator to set values above the threshold \n",
    "# to one. For example for two arrays a and b of the same shape, running a[b>8]=1 , will set all values in a to one where\n",
    "# the values in b are bigger then 8.\n",
    "\n",
    "\n",
    "# Visualize the result using plt.imshow and plt.show\n"
   ]
  },
  {
   "cell_type": "markdown",
   "metadata": {},
   "source": [
    "# Improving Masks with Binary Morphology"
   ]
  },
  {
   "cell_type": "markdown",
   "metadata": {},
   "source": [
    "Morphological operations such as **erosion, dilation, closing and opening** are common tools used (among other things) to improve masks after they are generated by thresholding.\n",
    "They can be used to fill small holes, remove noise, increase or decrease the size of an object, or smoothen mask outlines.\n",
    "Most morphological operations are - once again - simple kernel functions that are applied at each pixel of the image based on their neighborhood as defined by a structuring element (SE). For example, dilation simply assigns to the central pixel the maximum pixel value within the neighborhood; it is a maximum filter. Conversely, erosion is a minimum filter. Additional options emerge from combining the two: morphological closing, for example, is a dilation followed by an erosion. This is used to fill in gaps and holes or smoothing mask outlines without significantly changing the mask's area.\n",
    "Finally, there are also some more complicated morphological operations, such as **hole filling**."
   ]
  },
  {
   "cell_type": "markdown",
   "metadata": {},
   "source": [
    "## Exercises 7 - Morphological operations"
   ]
  },
  {
   "cell_type": "code",
   "execution_count": null,
   "metadata": {},
   "outputs": [],
   "source": [
    "# Create a diamond-shaped structuring element and asign it to a new variable.\n",
    "# Structuring elements are small binary images that indicate which pixels \n",
    "# should be considered as the 'neighborhood' of the central pixel.\n",
    "# You can use skimage.morphology.diamond to create diamond-shaped structuring element\n",
    "\n",
    "\n",
    "\n",
    "# Try morphological operations to further improve the membrane mask\n",
    "# The various operations are available in skimage, for example skimage.morphology.closing and ndimage for hole filling\n",
    "\n",
    "\n",
    "# Visualize the result using plt.imshow and plt.show\n"
   ]
  }
 ],
 "metadata": {
  "kernelspec": {
   "display_name": "Python 2",
   "language": "python",
   "name": "python2"
  },
  "language_info": {
   "codemirror_mode": {
    "name": "ipython",
    "version": 2
   },
   "file_extension": ".py",
   "mimetype": "text/x-python",
   "name": "python",
   "nbconvert_exporter": "python",
   "pygments_lexer": "ipython2",
   "version": "2.7.15"
  }
 },
 "nbformat": 4,
 "nbformat_minor": 2
}
