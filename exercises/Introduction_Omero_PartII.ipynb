{
 "cells": [
  {
   "cell_type": "markdown",
   "metadata": {},
   "source": [
    "# Introduction to OMERO (part II)"
   ]
  },
  {
   "cell_type": "markdown",
   "metadata": {},
   "source": [
    "The pipeline presented here will teach you how to import images from OMERO, retrieve the metadata of an image and then render on the notebook.   \n",
    "For more details, visit https://docs.openmicroscopy.org/omero/5.4.8/developers/Python.html"
   ]
  },
  {
   "cell_type": "markdown",
   "metadata": {},
   "source": [
    "## Exercises 1 - Connect to the omero server"
   ]
  },
  {
   "cell_type": "code",
   "execution_count": null,
   "metadata": {},
   "outputs": [],
   "source": [
    "# Import BlitzGateway from omero.gateway to access API\n",
    "\n",
    "\n",
    "# The getpass() function prints a prompt then reads input from the user until they press return.\n",
    "# The input is passed back as a string to the caller. For that import getpass from getpass.\n",
    "\n",
    "\n",
    "# Use raw_input function to print a prompt for username, host and port.\n",
    "# Warning: For port parameter cast the string to integer.\n",
    "\n",
    "# Fill the parameters of BlitzGateway function: Username, Password, Host and Port\n",
    "# Use connect function to connect you to the omero server.\n"
   ]
  },
  {
   "cell_type": "markdown",
   "metadata": {},
   "source": [
    "## Exercises 2 - Get Images Metadata"
   ]
  },
  {
   "cell_type": "code",
   "execution_count": 5,
   "metadata": {
    "scrolled": true
   },
   "outputs": [
    {
     "ename": "SyntaxError",
     "evalue": "invalid syntax (<ipython-input-5-b89235fdf762>, line 3)",
     "output_type": "error",
     "traceback": [
      "\u001b[0;36m  File \u001b[0;32m\"<ipython-input-5-b89235fdf762>\"\u001b[0;36m, line \u001b[0;32m3\u001b[0m\n\u001b[0;31m    dataset_id = ..\u001b[0m\n\u001b[0m                 ^\u001b[0m\n\u001b[0;31mSyntaxError\u001b[0m\u001b[0;31m:\u001b[0m invalid syntax\n"
     ]
    }
   ],
   "source": [
    "# Replace the occurences of .. in the code below to write a program\n",
    "# to get the images metadata from ExampleHuman Project / dataset\n",
    "dataset_id = ..\n",
    "dataset = conn.getObject(\"Dataset\", ..)\n",
    "print \"\\nImages in Dataset:\", dataset..\n",
    "for image in dataset.listChildren():\n",
    "    print \" Name: %s, Id: %s\" % (..,..)\n",
    "    # Get Images metadata X, Y, Z, C & T dimensions and datatype\n",
    "    print \" Size X:\", image..\n",
    "    print \" Size Y:\", ..\n",
    "    print \" Size Z:\", ..\n",
    "    print \" Size C:\", ..\n",
    "    print \" Size T:\", ..\n",
    "    print \" Data Type:\", .."
   ]
  },
  {
   "cell_type": "markdown",
   "metadata": {},
   "source": [
    "## Exercises 3 - Display Images"
   ]
  },
  {
   "cell_type": "code",
   "execution_count": 4,
   "metadata": {},
   "outputs": [
    {
     "ename": "SyntaxError",
     "evalue": "invalid syntax (<ipython-input-4-d3770dd8d9ce>, line 6)",
     "output_type": "error",
     "traceback": [
      "\u001b[0;36m  File \u001b[0;32m\"<ipython-input-4-d3770dd8d9ce>\"\u001b[0;36m, line \u001b[0;32m6\u001b[0m\n\u001b[0;31m    dataset_id = ..\u001b[0m\n\u001b[0m                 ^\u001b[0m\n\u001b[0;31mSyntaxError\u001b[0m\u001b[0;31m:\u001b[0m invalid syntax\n"
     ]
    }
   ],
   "source": [
    "# import pyplot from matplotlib\n",
    "\n",
    "\n",
    "# display images with renderImage function.\n",
    "# Replace the occurences of .. in the code below\n",
    "dataset_id = ..\n",
    "dataset = conn.getObject(\"Dataset\", ..)\n",
    "print \"\\nImages in Dataset:\", dataset.getName()\n",
    "for image in dataset.listChildren():\n",
    "    z = 0\n",
    "    t = 0\n",
    "    renderedImage = ..\n",
    "    fig = ..\n",
    "    plt.imshow(..)"
   ]
  }
 ],
 "metadata": {
  "kernelspec": {
   "display_name": "Python 2",
   "language": "python",
   "name": "python2"
  },
  "language_info": {
   "codemirror_mode": {
    "name": "ipython",
    "version": 2
   },
   "file_extension": ".py",
   "mimetype": "text/x-python",
   "name": "python",
   "nbconvert_exporter": "python",
   "pygments_lexer": "ipython2",
   "version": "2.7.15"
  }
 },
 "nbformat": 4,
 "nbformat_minor": 2
}
