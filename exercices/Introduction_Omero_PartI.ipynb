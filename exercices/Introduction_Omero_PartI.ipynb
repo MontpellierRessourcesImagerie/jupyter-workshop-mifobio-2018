{
 "cells": [
  {
   "cell_type": "markdown",
   "metadata": {},
   "source": [
    "# Introduction to OMERO"
   ]
  },
  {
   "cell_type": "markdown",
   "metadata": {},
   "source": [
    "The idea of the pipeline here is to become familiar with the omero web interface. Then, after a quick tour of the interface, the goal is to learn about the Omero API via python calls.   \n",
    "For more details, visit <https://docs.openmicroscopy.org/omero/5.4.8/developers/Python.html>"
   ]
  },
  {
   "cell_type": "markdown",
   "metadata": {},
   "source": [
    "## Exercices 1 - Connect to the omero.web"
   ]
  },
  {
   "cell_type": "code",
   "execution_count": 1,
   "metadata": {},
   "outputs": [],
   "source": [
    "# Fill your login and password (login as user_{int} password as mifobio2018)\n",
    "\n",
    "\n",
    "# Familiarize yourself with the tree browser, thumbnails and metadata of various projects, datasets and images\n",
    "\n",
    "\n",
    "# Give the name and the numbers of groups\n",
    "\n",
    "\n",
    "# Give the number of projects / datasets\n",
    "\n",
    "\n",
    "# Give for each projects and datasets, the number of images\n",
    "\n"
   ]
  },
  {
   "cell_type": "markdown",
   "metadata": {},
   "source": [
    "## Exercices 2 - Connect to the omero server"
   ]
  },
  {
   "cell_type": "code",
   "execution_count": 2,
   "metadata": {},
   "outputs": [],
   "source": [
    "# Import BlitzGateway from omero.gateway to access API\n",
    "\n",
    "\n",
    "# The getpass() function prints a prompt then reads input from the user until they press return.\n",
    "# The input is passed back as a string to the caller. For that import getpass from getpass.\n",
    "\n",
    "\n",
    "# Use raw_input function to print a prompt for username, host and port.\n",
    "# Warning: For port parameter cast the string to integer.\n",
    "\n",
    "# Fill the parameters of BlitzGateway function: Username, Password, Host and Port\n",
    "# Use connect function to connect you to the omero server.\n"
   ]
  },
  {
   "cell_type": "markdown",
   "metadata": {},
   "source": [
    "## Exercices 3 - Get user information"
   ]
  },
  {
   "cell_type": "code",
   "execution_count": 3,
   "metadata": {},
   "outputs": [],
   "source": [
    "# getUser function return the credentials of the current user.\n",
    "# create a variable to affect the output of this function\n",
    "\n",
    "\n",
    "# Get your name and fullname, search the good functions by pressing tab and print the outputs\n",
    "\n",
    "\n",
    "# Get your group using the getGroupsMemberOf function and your current group using getGroupFromContext().\n",
    "# Print also the outputs.\n",
    "# If you are member of several groups, you should use for clause to loop over groups \n"
   ]
  },
  {
   "cell_type": "markdown",
   "metadata": {},
   "source": [
    "## Exercices 4 - Get Projects and Datasets information"
   ]
  },
  {
   "cell_type": "code",
   "execution_count": 5,
   "metadata": {},
   "outputs": [],
   "source": [
    "# Get the number of projects / datasets for each project\n",
    "# Use getObjects function to retrieve Project or dataset\n",
    "# Use listChildren function to get a list of project's children\n",
    "# Note: use two loops - first to iterate over project and second to iterate over dataset\n"
   ]
  },
  {
   "cell_type": "code",
   "execution_count": null,
   "metadata": {},
   "outputs": [],
   "source": []
  }
 ],
 "metadata": {
  "kernelspec": {
   "display_name": "Python 2",
   "language": "python",
   "name": "python2"
  },
  "language_info": {
   "codemirror_mode": {
    "name": "ipython",
    "version": 2
   },
   "file_extension": ".py",
   "mimetype": "text/x-python",
   "name": "python",
   "nbconvert_exporter": "python",
   "pygments_lexer": "ipython2",
   "version": "2.7.15"
  }
 },
 "nbformat": 4,
 "nbformat_minor": 2
}
