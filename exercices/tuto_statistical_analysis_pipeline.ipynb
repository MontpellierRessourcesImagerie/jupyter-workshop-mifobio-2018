{
 "cells": [
  {
   "cell_type": "markdown",
   "metadata": {},
   "source": [
    "# Simple Analysis & Visualisation\n",
    "\n",
    "**Background**\n",
    "\n",
    "By extracting quantitative measurements from an image we cross over from 'image analysis' to 'data analysis'.\n",
    "\n",
    "This section briefly explains how to do basic data analysis and plotting, including boxplots, scatterplots and linear fits."
   ]
  },
  {
   "cell_type": "markdown",
   "metadata": {},
   "source": [
    "#### Exercise\n",
    "\n",
    "Follow the instructions in the comments below.\n",
    "\n",
    "Note: If you're working in jupyter notebook, feel free to split the code cell below into multiple cells to make it easier to view the plots and modify the code without scrolling up and down all the time."
   ]
  },
  {
   "cell_type": "code",
   "execution_count": null,
   "metadata": {
    "scrolled": false
   },
   "outputs": [],
   "source": [
    "# (i) Familiarize yourself with the data structure of the results and summarize features of dataset.\n",
    "# read the result with the read.table function from util package.\n",
    "# get the summarize with the function summary from r base\n"
   ]
  },
  {
   "cell_type": "code",
   "execution_count": null,
   "metadata": {},
   "outputs": [],
   "source": [
    "# (ii) Create a box plot showing the distribution of features cell_actin_mean and cell_tubulin_mean intensities. \n",
    "#  - Reorganize data thanks to package tidyr: takes multiple columns and collapses into key-value pairs \n",
    "# with the gather function.\n",
    "#  - Rename columns with colnames function.\n",
    "#  - Use the function geom_boxplot from ggplot2 package.\n",
    "# Feel free to play around with the various options of the boxplot \n",
    "# function to make your plot look nicer.\n"
   ]
  },
  {
   "cell_type": "code",
   "execution_count": null,
   "metadata": {},
   "outputs": [],
   "source": [
    "# (iii) Create a scatter plot of cell tubulin intensity over cell area\n",
    "# Use the function geom_point for this.\n"
   ]
  },
  {
   "cell_type": "markdown",
   "metadata": {},
   "source": [
    "## Simple linear regression"
   ]
  },
  {
   "cell_type": "markdown",
   "metadata": {},
   "source": [
    "**Background**\n",
    "\n",
    "The simple linear regression is used to predict a quantitative outcome y on the basis of one single predictor variable x. The goal is to build a mathematical model (or formula) that defines y as a function of the x variable.\n",
    "Once, we built a statistically significant model, it’s possible to use it for predicting future outcome on the basis of new x values."
   ]
  },
  {
   "cell_type": "markdown",
   "metadata": {},
   "source": [
    "#### Exercices"
   ]
  },
  {
   "cell_type": "code",
   "execution_count": null,
   "metadata": {},
   "outputs": [],
   "source": [
    "# (i) Perform a linear fit of cell tubulin mean over cell area\n",
    "# The simple linear regression tries to find the best line to predict tubulin intensity on the cell area.\n",
    "# The linear model equation can be written as follow: cell_tubulin_mean = b0 + b1 * cell_area\n",
    "# The R function lm() can be used to determine the beta coefficients of the linear model:\n"
   ]
  },
  {
   "cell_type": "code",
   "execution_count": null,
   "metadata": {},
   "outputs": [],
   "source": [
    "# (ii) Add the regression line onto the scatter plot.\n",
    "# you can use the function stat_smooth() [ggplot2]. \n",
    "# By default, the fitted line is presented with confidence interval around it. \n",
    "# The confidence bands reflect the uncertainty about the line. If you don’t want to display it, \n",
    "# specify the option se = FALSE in the function stat_smooth().\n"
   ]
  },
  {
   "cell_type": "markdown",
   "metadata": {},
   "source": [
    "### Model assessment"
   ]
  },
  {
   "cell_type": "markdown",
   "metadata": {},
   "source": [
    "**Background**\n",
    "\n",
    "In the previous section, we built a linear model of tubulin intensity as a function of cell area: \n",
    "cell_tubulin_mean = 0.19-6.956e-07*cell_area.\n",
    "    Before using this formula to predict future intensities, you should make sure that this model is \n",
    "    statistically significant, that is:\n",
    "    there is a statistically significant relationship between the predictor and the outcome variables\n",
    "    the model that we built fits very well the data in our hand.\n",
    "In this section, we’ll describe how to check the quality of a linear regression model."
   ]
  },
  {
   "cell_type": "code",
   "execution_count": null,
   "metadata": {},
   "outputs": [],
   "source": [
    "# (i) Displaying the statistical summary of the model using the R function summary()\n"
   ]
  },
  {
   "cell_type": "code",
   "execution_count": null,
   "metadata": {},
   "outputs": [],
   "source": [
    "# (ii) Understand the output\n",
    "# 1) What does this Residual standard error means ?\n",
    "# 2) What does this R-squared / Adjusted R-squared means ?\n",
    "# 3) What does this p-value means ?"
   ]
  }
 ],
 "metadata": {
  "kernelspec": {
   "display_name": "R",
   "language": "R",
   "name": "ir"
  },
  "language_info": {
   "codemirror_mode": "r",
   "file_extension": ".r",
   "mimetype": "text/x-r-source",
   "name": "R",
   "pygments_lexer": "r",
   "version": "3.4.4"
  }
 },
 "nbformat": 4,
 "nbformat_minor": 2
}
