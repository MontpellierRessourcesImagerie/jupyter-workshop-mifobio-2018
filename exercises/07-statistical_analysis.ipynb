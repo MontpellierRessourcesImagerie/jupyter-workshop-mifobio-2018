{
 "cells": [
  {
   "cell_type": "markdown",
   "metadata": {},
   "source": [
    "# Simple Analysis & Visualisation\n",
    "\n",
    "By extracting quantitative measurements from an image we cross over from 'image analysis' to 'data analysis'.\n",
    "\n",
    "This section briefly explains how to do basic data analysis and plotting, including boxplots, scatterplots and linear fits."
   ]
  },
  {
   "cell_type": "markdown",
   "metadata": {},
   "source": [
    "## Exercice 1 - read file & get summaries of result"
   ]
  },
  {
   "cell_type": "code",
   "execution_count": null,
   "metadata": {
    "scrolled": false
   },
   "outputs": [],
   "source": [
    "# Familiarize yourself with the data structure of the results and summarize features of dataset.\n",
    "# read the result with the read.table function from util package. \n",
    "# You should specify \n",
    "#    * the file: the naùe of the file wich the data are to be read from.\n",
    "#    * header: a logical value indicating whether the file contains the names of the variables as its first line.\n",
    "#    * sep: the field separator character.\n",
    "# get the summarize with the function summary from r base\n"
   ]
  },
  {
   "cell_type": "markdown",
   "metadata": {},
   "source": [
    "## Exercises 2 - Visualization"
   ]
  },
  {
   "cell_type": "code",
   "execution_count": null,
   "metadata": {},
   "outputs": [],
   "source": [
    "# Create a box plot showing the distribution of features cell_actin_mean and cell_tubulin_mean intensities. \n",
    "#  - Reorganize data thanks to package tidyr: takes multiple columns and collapses into key-value pairs \n",
    "# with the gather function.\n",
    "#  - Rename columns with colnames function.\n",
    "#  - Use the function geom_boxplot from ggplot2 package. Load package with library(ggplot2)\n",
    "# Feel free to play around with the various options of the boxplot \n",
    "# function to make your plot look nicer.\n",
    "\n",
    "library(tidyr)\n",
    "data_result <- result[,c('cell_actin_mean','cell_tubulin_mean')]\n",
    "\n",
    "df <- gather(data_result,key = 'var', value = c('cell_actin_mean','cell_tubulin_mean'))\n",
    "colnames(df) <- c(\"var\",\"value\")\n",
    "\n",
    "#fill the rest of the code using ggplot2\n",
    ".."
   ]
  },
  {
   "cell_type": "code",
   "execution_count": null,
   "metadata": {},
   "outputs": [],
   "source": [
    "# Create a scatter plot of cell tubulin intensity over cell area\n",
    "# Use the function geom_point for this.\n"
   ]
  },
  {
   "cell_type": "markdown",
   "metadata": {},
   "source": [
    "# Simple linear regression"
   ]
  },
  {
   "cell_type": "markdown",
   "metadata": {},
   "source": [
    "**Background**\n",
    "\n",
    "The simple linear regression is used to predict a quantitative outcome y on the basis of one single predictor variable x. The goal is to build a mathematical model (or formula) that defines y as a function of the x variable.\n",
    "Once, we built a statistically significant model, it’s possible to use it for predicting future outcome on the basis of new x values."
   ]
  },
  {
   "cell_type": "markdown",
   "metadata": {},
   "source": [
    "## Exercises 3 - Linear regression"
   ]
  },
  {
   "cell_type": "code",
   "execution_count": null,
   "metadata": {},
   "outputs": [],
   "source": [
    "# Perform a linear fit of cell tubulin mean over cell area\n",
    "# The simple linear regression tries to find the best line to predict tubulin intensity on the cell area.\n",
    "# The linear model equation can be written as follow: cell_tubulin_mean = b0 + b1 * cell_area\n",
    "# The R function lm() can be used to determine the beta coefficients of the linear model:\n"
   ]
  },
  {
   "cell_type": "code",
   "execution_count": null,
   "metadata": {},
   "outputs": [],
   "source": [
    "# Add the regression line onto the scatter plot.\n",
    "# you can use the function stat_smooth() [ggplot2]. \n",
    "# By default, the fitted line is presented with confidence interval around it. \n",
    "# The confidence bands reflect the uncertainty about the line. If you don’t want to display it, \n",
    "# specify the option se = FALSE in the function stat_smooth().\n"
   ]
  },
  {
   "cell_type": "markdown",
   "metadata": {},
   "source": [
    "## Model assessment"
   ]
  },
  {
   "cell_type": "markdown",
   "metadata": {},
   "source": [
    "**Background**\n",
    "\n",
    "In the previous section, we built a linear model of tubulin intensity as a function of cell area.\n",
    "    Before using this formula to predict future intensities, you should make sure that this model is \n",
    "    statistically significant, that is:\n",
    "    there is a statistically significant relationship between the predictor and the outcome variables\n",
    "    the model that we built fits very well the data in our hand.\n",
    "In this section, we’ll describe how to check the quality of a linear regression model."
   ]
  },
  {
   "cell_type": "markdown",
   "metadata": {},
   "source": [
    "## Execises 4 - Cheking the  quality of the model"
   ]
  },
  {
   "cell_type": "code",
   "execution_count": null,
   "metadata": {},
   "outputs": [],
   "source": [
    "# (i) Displaying the statistical summary of the model using the R function summary()\n"
   ]
  },
  {
   "cell_type": "code",
   "execution_count": null,
   "metadata": {},
   "outputs": [],
   "source": [
    "# (ii) Understand the output\n",
    "# 1) What does this Residual standard error means ?\n",
    "# 2) What does this R-squared / Adjusted R-squared means ?\n",
    "# 3) What does this p-value means ?"
   ]
  }
 ],
 "metadata": {
  "kernelspec": {
   "display_name": "R",
   "language": "R",
   "name": "ir"
  },
  "language_info": {
   "codemirror_mode": "r",
   "file_extension": ".r",
   "mimetype": "text/x-r-source",
   "name": "R",
   "pygments_lexer": "r",
   "version": "3.4.4"
  }
 },
 "nbformat": 4,
 "nbformat_minor": 2
}
