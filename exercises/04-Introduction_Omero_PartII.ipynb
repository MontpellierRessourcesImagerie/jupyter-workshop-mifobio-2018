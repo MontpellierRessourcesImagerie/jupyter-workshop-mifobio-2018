{
 "cells": [
  {
   "cell_type": "markdown",
   "metadata": {},
   "source": [
    "# Introduction to OMERO (part II)"
   ]
  },
  {
   "cell_type": "markdown",
   "metadata": {},
   "source": [
    "The pipeline presented here will teach you how to import images from OMERO, retrieve the metadata of an image and then render on the notebook.   \n",
    "For more details, visit https://docs.openmicroscopy.org/omero/5.4.8/developers/Python.html"
   ]
  },
  {
   "cell_type": "markdown",
   "metadata": {},
   "source": [
    "## Exercises 1 - Connect to the omero server"
   ]
  },
  {
   "cell_type": "code",
   "execution_count": null,
   "metadata": {},
   "outputs": [],
   "source": [
    "# The 2 lines below are there to set the path to the OMERO python client. \n",
    "import sys\n",
    "sys.path.append('../../OMERO.server/lib/python')\n",
    "from omero.gateway import BlitzGateway\n",
    "from getpass import getpass\n",
    "\n",
    "host = \"localhost\"\n",
    "port = 4064\n",
    "username = 'user1'\n",
    "\n",
    "# Use the getpass function to ask the user for the password (mifobio2018) and asign it to a variable (=)\n",
    "\n",
    "# Create a new BlitzGateway by calling the BlitzGateway funcion with the parameters: Username, Password, Host and Port\n",
    "\n",
    "# Use connect function to connect you to the omero server.\n"
   ]
  },
  {
   "cell_type": "markdown",
   "metadata": {},
   "source": [
    "## Exercises 2 - Accessing Image Metadata"
   ]
  },
  {
   "cell_type": "code",
   "execution_count": null,
   "metadata": {
    "scrolled": true
   },
   "outputs": [],
   "source": [
    "# Replace the occurences of .. in the code below to write a program\n",
    "# that reads the image metadata from the dataset 'one' of the project 'Human'.\n",
    "# Use the methods 'getName()', 'getSizeX()', getPixelsType(), etc. to retrieve the information.\n",
    "dataset_id = ..\n",
    "dataset = conn.getObject(\"Dataset\", ..)\n",
    "print \"\\nImages in Dataset:\", ..           # display the name of the dataset\n",
    "for image in dataset.listChildren():\n",
    "    print \" Name: %s, Id: %s\" % (.., ..)\n",
    "    # Get Images metadata X, Y, Z, C & T dimensions and datatype\n",
    "    print \" Size X:\", ..\n",
    "    print \" Size Y:\", ..\n",
    "    print \" Size Z:\", ..\n",
    "    print \" Size C:\", ..\n",
    "    print \" Size T:\", ..\n",
    "    print \" Data Type:\", .."
   ]
  },
  {
   "cell_type": "markdown",
   "metadata": {},
   "source": [
    "## Exercises 3 - Display Images"
   ]
  },
  {
   "cell_type": "code",
   "execution_count": null,
   "metadata": {},
   "outputs": [],
   "source": [
    "# Import pyplot from matplotlib\n",
    "from matplotlib import pyplot as plt\n",
    "\n",
    "# Display the images with the renderImage function.\n",
    "# Replace the occurences of .. in the code below\n",
    "\n",
    "dataset_id = ..\n",
    "dataset = conn.getObject(\"Dataset\", ..)\n",
    "print \"\\nImages in Dataset:\", dataset.getName()\n",
    "for image in dataset.listChildren():\n",
    "    z = 0\n",
    "    t = 0\n",
    "    renderedImage = ..\n",
    "    plt.figure(..)\n",
    "    plt.imshow(..)\n",
    "    .."
   ]
  },
  {
   "cell_type": "code",
   "execution_count": null,
   "metadata": {},
   "outputs": [],
   "source": []
  }
 ],
 "metadata": {
  "kernelspec": {
   "display_name": "Python [conda env:py27]",
   "language": "python",
   "name": "conda-env-py27-py"
  },
  "language_info": {
   "codemirror_mode": {
    "name": "ipython",
    "version": 2
   },
   "file_extension": ".py",
   "mimetype": "text/x-python",
   "name": "python",
   "nbconvert_exporter": "python",
   "pygments_lexer": "ipython2",
   "version": "2.7.15"
  }
 },
 "nbformat": 4,
 "nbformat_minor": 2
}
