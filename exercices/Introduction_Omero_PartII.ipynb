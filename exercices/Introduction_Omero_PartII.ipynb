{
 "cells": [
  {
   "cell_type": "markdown",
   "metadata": {},
   "source": [
    "# Introduction to OMERO (part II)"
   ]
  },
  {
   "cell_type": "markdown",
   "metadata": {},
   "source": [
    "The pipeline presented here will teach you how to import images from OMERO, retrieve the metadata of an image and then render on the notebook.   \n",
    "For more details, visit https://docs.openmicroscopy.org/omero/5.4.8/developers/Python.html"
   ]
  },
  {
   "cell_type": "markdown",
   "metadata": {},
   "source": [
    "## Exercices 1 - Connect to the omero server"
   ]
  },
  {
   "cell_type": "code",
   "execution_count": 1,
   "metadata": {},
   "outputs": [],
   "source": [
    "# Import BlitzGateway from omero.gateway to access API\n",
    "\n",
    "\n",
    "# The getpass() function prints a prompt then reads input from the user until they press return.\n",
    "# The input is passed back as a string to the caller. For that import getpass from getpass.\n",
    "\n",
    "\n",
    "# Use raw_input function to print a prompt for username, host and port.\n",
    "# Warning: For port parameter cast the string to integer.\n",
    "\n",
    "# Fill the parameters of BlitzGateway function: Username, Password, Host and Port\n",
    "# Use connect function to connect you to the omero server.\n"
   ]
  },
  {
   "cell_type": "markdown",
   "metadata": {},
   "source": [
    "## Exercices 2 - Get Images Metadata"
   ]
  },
  {
   "cell_type": "code",
   "execution_count": 2,
   "metadata": {},
   "outputs": [],
   "source": [
    "# Get the images names from ExampleHuman Project / images dataset\n",
    "\n",
    "    # Get Images metadata X, Y, Z, C & T dimensions and datatype\n",
    "    "
   ]
  },
  {
   "cell_type": "markdown",
   "metadata": {},
   "source": [
    "## Exercices 3 - Display Images"
   ]
  },
  {
   "cell_type": "code",
   "execution_count": 3,
   "metadata": {},
   "outputs": [],
   "source": [
    "# import pyplot from matplotlib\n",
    "\n",
    "\n",
    "# display images with renderImage function\n"
   ]
  }
 ],
 "metadata": {
  "kernelspec": {
   "display_name": "Python 2",
   "language": "python",
   "name": "python2"
  },
  "language_info": {
   "codemirror_mode": {
    "name": "ipython",
    "version": 2
   },
   "file_extension": ".py",
   "mimetype": "text/x-python",
   "name": "python",
   "nbconvert_exporter": "python",
   "pygments_lexer": "ipython2",
   "version": "2.7.15"
  }
 },
 "nbformat": 4,
 "nbformat_minor": 2
}
